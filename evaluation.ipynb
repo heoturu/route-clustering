{
 "cells": [
  {
   "cell_type": "code",
   "execution_count": 2,
   "metadata": {
    "collapsed": true
   },
   "outputs": [],
   "source": [
    "%matplotlib inline"
   ]
  },
  {
   "cell_type": "code",
   "execution_count": 85,
   "metadata": {
    "collapsed": true
   },
   "outputs": [],
   "source": [
    "import os\n",
    "import pickle\n",
    "from math import floor\n",
    "from random import shuffle\n",
    "from statistics import variance\n",
    "from statistics import mean\n",
    "import math\n",
    "\n",
    "from itertools import chain\n",
    "from itertools import product\n",
    "from itertools import groupby\n",
    "from operator import itemgetter\n",
    "\n",
    "import pandas as pd\n",
    "import numpy as np\n",
    "\n",
    "from geopy.distance import vincenty\n",
    "import matplotlib.pyplot as plt\n",
    "\n",
    "from sklearn.cluster import MiniBatchKMeans\n",
    "from sklearn.cluster import KMeans\n",
    "from sklearn.cluster import SpectralClustering\n",
    "from sklearn.cluster import DBSCAN\n",
    "from sklearn.cluster import AgglomerativeClustering\n",
    "from sklearn.cluster import Birch\n",
    "from sklearn.metrics import silhouette_score"
   ]
  },
  {
   "cell_type": "code",
   "execution_count": 73,
   "metadata": {
    "collapsed": true
   },
   "outputs": [],
   "source": [
    "with open('data_routes_pickle/routes_coord_cur', 'rb') as f:\n",
    "    routes_coord_cur = pickle.load(f)\n",
    "\n",
    "with open('data_routes_pickle/sim_matrix_sim_segments_1_mod23', 'rb') as f:\n",
    "    sim_matrix = np.array(pickle.load(f))\n",
    "\n",
    "with open('data_routes_pickle/dist_matrix', 'rb') as f:\n",
    "    dist_matrix = np.array(pickle.load(f))\n",
    "\n",
    "with open('data_routes_pickle/cluster_count_cur', 'rb') as f:\n",
    "    cluster_count_cur = pickle.load(f)\n",
    "\n",
    "with open('data_routes_pickle/idxs', 'rb') as f:\n",
    "    idxs = pickle.load(f)"
   ]
  },
  {
   "cell_type": "code",
   "execution_count": 158,
   "metadata": {
    "collapsed": false
   },
   "outputs": [
    {
     "name": "stdout",
     "output_type": "stream",
     "text": [
      "[39, 43, 15, 21, 24, 24, 20, 7, 23, 63, 23, 14, 1, 27, 9, 22, 5, 5, 15]\n",
      "\n",
      "8 10 2 13 0 3 8 7 16 9 9 1 5 3 18 5 18 1 3 8 11 10 13 9 1 14 15 4 8 9 11 4 14 8 9 14 1 10 5 5 8 6 10 9 9 10 6 3 15 4 10 18 3 2 0 4 0 9 8 9 0 2 15 4 5 15 6 0 9 9 17 10 16 13 1 7 13 13 4 10 8 3 9 2 3 6 9 8 9 9 18 9 9 18 9 8 1 6 4 1 4 0 13 11 5 0 8 15 0 18 0 6 13 0 3 1 1 18 1 17 6 4 3 9 15 1 0 13 7 5 8 4 10 4 17 1 15 2 0 11 9 1 9 2 8 9 0 5 9 3 1 9 13 9 9 13 10 4 4 9 9 9 0 1 1 13 4 6 6 6 2 11 4 0 13 9 9 1 6 1 10 15 9 9 9 4 13 0 15 9 3 1 2 1 8 0 5 10 8 1 6 14 10 9 9 10 18 5 5 5 10 1 0 14 3 2 17 6 9 0 0 18 9 0 13 3 9 3 1 9 9 15 0 1 13 18 8 2 15 10 13 13 10 8 5 1 1 14 6 6 6 9 1 18 7 10 1 4 18 0 2 1 13 1 0 1 10 9 15 9 7 13 16 8 1 9 5 9 0 13 2 15 1 14 13 5 4 5 7 13 9 5 9 10 5 3 0 15 1 0 9 4 5 18 18 15 2 1 1 0 16 7 0 6 0 1 0 3 9 9 14 11 3 8 0 9 1 5 4 5 15 1 11 9 11 2 11 9 5 13 0 0 5 8 4 0 17 15 16 9 12 0 15 11 9 3 10 9 9 1 6 14 4 1 9 2 3 15 13 15 8 8 1 3 13 3 9 0 6 13 6 18 15 9 13 1 10 11 15 11 11 0 11 9 0 10 5 8 4 4 "
     ]
    }
   ],
   "source": [
    "# algo = KMeans(n_clusters=cluster_count, random_state=42)\n",
    "# algo = AgglomerativeClustering(n_clusters=cluster_count_cur)\n",
    "algo = Birch(threshold=80, branching_factor=120, n_clusters=19)\n",
    "\n",
    "idxs = algo.fit_predict(dist_matrix)\n",
    "\n",
    "route_idxs_per_cluster = [[] for i in range(19)]\n",
    "for r_i, c_i in enumerate(idxs):\n",
    "    route_idxs_per_cluster[c_i].append(r_i)\n",
    "    \n",
    "print([len(routes) for routes in route_idxs_per_cluster])\n",
    "print()\n",
    "\n",
    "for idx in idxs:\n",
    "    print(idx, end=' ')"
   ]
  },
  {
   "cell_type": "code",
   "execution_count": 143,
   "metadata": {
    "collapsed": true
   },
   "outputs": [],
   "source": [
    "def clustroid_idxs_per_cluster(route_idxs_per_cluster):\n",
    "    clustroid_idxs = []\n",
    "    rowsums = []\n",
    "    for route_idxs in route_idxs_per_cluster:\n",
    "        clustroid_idx = route_idxs[0]\n",
    "        rowsum_min = rowsum(route_idxs, route_idxs[0])\n",
    "        for route_idx in route_idxs[1:]:\n",
    "            rowsum_cur = rowsum(route_idxs, route_idx)\n",
    "            if rowsum_cur < rowsum_min:\n",
    "                rowsum_min = rowsum_cur\n",
    "                clustroid_idx = route_idx\n",
    "        \n",
    "        clustroid_idxs.append(clustroid_idx)\n",
    "    \n",
    "    return clustroid_idxs"
   ]
  },
  {
   "cell_type": "code",
   "execution_count": 136,
   "metadata": {
    "collapsed": true
   },
   "outputs": [],
   "source": [
    "def rowsum(cluster_route_idxs, route_idx):\n",
    "    return sum([dist_matrix[route_idx][i] ** 2 for i in cluster_route_idxs])"
   ]
  },
  {
   "cell_type": "code",
   "execution_count": 195,
   "metadata": {
    "collapsed": true
   },
   "outputs": [],
   "source": [
    "def radiuses_per_cluster(route_idxs_per_cluster):\n",
    "    clustroid_idxs = clustroid_idxs_per_cluster(route_idxs_per_cluster)\n",
    "    return [mean([dist_matrix[clustroid_idxs[i]][j] ** 2 for j in cluster])\n",
    "            for i, cluster in enumerate(route_idxs_per_cluster)]            "
   ]
  },
  {
   "cell_type": "code",
   "execution_count": 140,
   "metadata": {
    "collapsed": false
   },
   "outputs": [],
   "source": [
    "def diameters_per_cluster(route_idxs_per_cluster):\n",
    "    return [math.sqrt(sum([rowsum(cluster, x) for x in cluster]) / (len(cluster) * (len(cluster) - 1)))\n",
    "            if len(cluster) > 1 else 0 for cluster in route_idxs_per_cluster]"
   ]
  },
  {
   "cell_type": "code",
   "execution_count": 159,
   "metadata": {
    "collapsed": false
   },
   "outputs": [
    {
     "data": {
      "image/png": "[encoded data removed]",
      "text/plain": [
       "<matplotlib.figure.Figure at 0x114a3ef60>"
      ]
     },
     "metadata": {},
     "output_type": "display_data"
    }
   ],
   "source": [
    "def rowsums_per_cluster(route_idxs_per_cluster):\n",
    "    clustroid_idxs = clustroid_idxs_per_cluster(route_idxs_per_cluster)\n",
    "    return [rowsum(route_idxs, clustroid_idxs[i]) for i, route_idxs in enumerate(route_idxs_per_cluster)]\n",
    "\n",
    "rowsums = radiuses_per_cluster(route_idxs_per_cluster)\n",
    "plt.bar(list(range(len(rowsums))), rowsums)\n",
    "plt.show()"
   ]
  },
  {
   "cell_type": "code",
   "execution_count": 196,
   "metadata": {
    "collapsed": false
   },
   "outputs": [
    {
     "data": {
      "image/png": "[encoded data removed]",
      "text/plain": [
       "<matplotlib.figure.Figure at 0x1147b2128>"
      ]
     },
     "metadata": {},
     "output_type": "display_data"
    },
    {
     "data": {
      "image/png": "[encoded data removed]",
      "text/plain": [
       "<matplotlib.figure.Figure at 0x113c2c0f0>"
      ]
     },
     "metadata": {},
     "output_type": "display_data"
    },
    {
     "data": {
      "image/png": "[encoded data removed]",
      "text/plain": [
       "<matplotlib.figure.Figure at 0x113c2c128>"
      ]
     },
     "metadata": {},
     "output_type": "display_data"
    }
   ],
   "source": [
    "rowsums_avg, rads_avg, diams_avg = [], [], []\n",
    "cluster_rount_range = range(6, 200)\n",
    "for cluster_count in cluster_rount_range:\n",
    "#     algo = KMeans(n_clusters=cluster_count, random_state=107)\n",
    "    algo = AgglomerativeClustering(n_clusters=cluster_count)\n",
    "#     algo = Birch(threshold=89, branching_factor=20, n_clusters=cluster_count)\n",
    "\n",
    "    idxs = algo.fit_predict(dist_matrix)\n",
    "    \n",
    "    route_idxs_per_cluster = [[] for i in range(cluster_count)]\n",
    "    for r_i, c_i in enumerate(idxs):\n",
    "        route_idxs_per_cluster[c_i].append(r_i)\n",
    "    \n",
    "    rowsums = rowsums_per_cluster(route_idxs_per_cluster)\n",
    "    rads = radiuses_per_cluster(route_idxs_per_cluster)\n",
    "    diams = diameters_per_cluster(route_idxs_per_cluster)\n",
    "\n",
    "    rowsums.remove(max(rowsums))\n",
    "    \n",
    "    rowsums_avg.append(mean(rowsums))\n",
    "    rads_avg.append(mean(rads))\n",
    "    diams_avg.append(mean(diams))\n",
    "\n",
    "plt.bar(cluster_rount_range, rowsums_avg)\n",
    "plt.show()\n",
    "plt.bar(cluster_rount_range, rads_avg)\n",
    "plt.show()\n",
    "plt.bar(cluster_rount_range, diams_avg)\n",
    "plt.show()"
   ]
  },
  {
   "cell_type": "code",
   "execution_count": null,
   "metadata": {
    "collapsed": true
   },
   "outputs": [],
   "source": []
  }
 ],
 "metadata": {
  "kernelspec": {
   "display_name": "Python 3",
   "language": "python",
   "name": "python3"
  },
  "language_info": {
   "codemirror_mode": {
    "name": "ipython",
    "version": 3
   },
   "file_extension": ".py",
   "mimetype": "text/x-python",
   "name": "python",
   "nbconvert_exporter": "python",
   "pygments_lexer": "ipython3",
   "version": "3.5.1"
  }
 },
 "nbformat": 4,
 "nbformat_minor": 0
}
