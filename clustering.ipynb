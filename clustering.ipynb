{
 "cells": [
  {
   "cell_type": "code",
   "execution_count": null,
   "metadata": {
    "collapsed": true
   },
   "outputs": [],
   "source": [
    "%matplotlib inline"
   ]
  },
  {
   "cell_type": "code",
   "execution_count": null,
   "metadata": {
    "collapsed": true
   },
   "outputs": [],
   "source": [
    "import pandas as pd\n",
    "import numpy as np\n",
    "import pickle\n",
    "\n",
    "import fiona\n",
    "from itertools import chain\n",
    "\n",
    "import matplotlib.pyplot as plt\n",
    "from matplotlib.collections import PatchCollection\n",
    "from mpl_toolkits.basemap import Basemap\n",
    "from shapely.geometry import Point, Polygon, MultiPoint\n",
    "from descartes import PolygonPatch\n",
    "\n",
    "import matplotlib.colors as mpl_colors\n",
    "from random import randint\n",
    "import time\n",
    "\n",
    "from geopy.distance import vincenty\n",
    "\n",
    "from sklearn.cluster import MiniBatchKMeans\n",
    "from sklearn.cluster import KMeans\n",
    "from sklearn.cluster import SpectralClustering\n",
    "from sklearn.cluster import DBSCAN\n",
    "from sklearn.metrics import silhouette_score"
   ]
  },
  {
   "cell_type": "markdown",
   "metadata": {},
   "source": [
    "# Setting up environment"
   ]
  },
  {
   "cell_type": "code",
   "execution_count": null,
   "metadata": {
    "collapsed": true
   },
   "outputs": [],
   "source": [
    "img_width_inches = 7.22 * 3\n",
    "img_height_inches = 5.25 * 3\n",
    "\n",
    "stadium_coords = 30.28725, 59.95271"
   ]
  },
  {
   "cell_type": "code",
   "execution_count": null,
   "metadata": {
    "collapsed": false
   },
   "outputs": [],
   "source": [
    "with open('./data_routes_pickle/cell_id_lac_info', 'rb') as f:\n",
    "    station_dict = pickle.load(f)\n",
    "    \n",
    "with open('./data_routes_pickle/routes_user_id', 'rb') as f:\n",
    "    routes_user_id = pickle.load(f)\n",
    "\n",
    "with open('./data_routes_pickle/routes_coord', 'rb') as f:\n",
    "    routes_coord = pickle.load(f)\n",
    "\n",
    "with open('./data_routes_pickle/routes_cell_id', 'rb') as f:\n",
    "    routes_station = pickle.load(f)"
   ]
  },
  {
   "cell_type": "markdown",
   "metadata": {},
   "source": [
    "### Reading map (really long operation)"
   ]
  },
  {
   "cell_type": "code",
   "execution_count": null,
   "metadata": {
    "collapsed": false
   },
   "outputs": [],
   "source": [
    "m.readshapefile(\n",
    "    'data_maps_input/spb',\n",
    "    'city_polygons',\n",
    "    drawbounds=False)\n",
    "\n",
    "df_map = pd.DataFrame({\n",
    "    'poly': [Polygon(polygon_coords) for polygon_coords in m.city_polygons]})\n",
    "\n",
    "df_map['patches'] = df_map['poly'].map(lambda x: PolygonPatch(\n",
    "    x,\n",
    "    fc='black',\n",
    "    ec='white', lw=0.55, alpha=1.,\n",
    "    zorder=2))"
   ]
  },
  {
   "cell_type": "markdown",
   "metadata": {},
   "source": [
    "### Creating basemap, setting up scale etc."
   ]
  },
  {
   "cell_type": "code",
   "execution_count": null,
   "metadata": {
    "collapsed": false
   },
   "outputs": [],
   "source": [
    "shp = fiona.open('data_maps_input/spb.shp')\n",
    "bds = shp.bounds\n",
    "shp.close()\n",
    "\n",
    "ll = bds[0], bds[1]\n",
    "ur = bds[2], bds[3]\n",
    "coords = list(chain(ll, ur))\n",
    "w, h = coords[2] - coords[0], coords[3] - coords[1]\n",
    "zoom_out_frac = -0.333\n",
    "\n",
    "# new_coords_2 = coords[2] + (coords[2] - coords[0]) * 0.06\n",
    "\n",
    "m = Basemap(\n",
    "    projection='tmerc',\n",
    "    lon_0=30.5,\n",
    "    lat_0=60.,\n",
    "    ellps='WGS84',\n",
    "    llcrnrlon=coords[0] + (coords[2] - coords[0]) * 0.06 - zoom_out_frac * w,\n",
    "    llcrnrlat=coords[1] - zoom_out_frac * h,\n",
    "    urcrnrlon=coords[2] + (coords[2] - coords[0]) * 0.06 + zoom_out_frac * w,\n",
    "    urcrnrlat=coords[3] + zoom_out_frac * h,\n",
    "    lat_ts=0,\n",
    "    resolution='i',\n",
    "    suppress_ticks=True)"
   ]
  },
  {
   "cell_type": "code",
   "execution_count": null,
   "metadata": {
    "collapsed": false
   },
   "outputs": [],
   "source": [
    "map_points = pd.Series(\n",
    "    [Point(m(mapped_x, mapped_y)) for mapped_x, mapped_y in \n",
    "     [(station_dict[i][0], station_dict[i][1]) for i in station_dict]])\n",
    "\n",
    "station_points = MultiPoint(list(map_points.values))"
   ]
  },
  {
   "cell_type": "markdown",
   "metadata": {},
   "source": [
    "# Filtering"
   ]
  },
  {
   "cell_type": "markdown",
   "metadata": {},
   "source": [
    "### Current routes resetting"
   ]
  },
  {
   "cell_type": "code",
   "execution_count": null,
   "metadata": {
    "collapsed": true
   },
   "outputs": [],
   "source": [
    "routes_coord_cur = routes_coord"
   ]
  },
  {
   "cell_type": "markdown",
   "metadata": {},
   "source": [
    "### Filtering by total distance"
   ]
  },
  {
   "cell_type": "code",
   "execution_count": null,
   "metadata": {
    "collapsed": true
   },
   "outputs": [],
   "source": [
    "dists_total = [0.0] * len(routes_coord)\n",
    "for i in range(len(routes_coord)):\n",
    "    path = routes_coord[i]\n",
    "    for j in range(len(path) - 1):\n",
    "        point1, point2 = path[j], path[j + 1]\n",
    "        dists_total[i] += vincenty(point1, point2).miles"
   ]
  },
  {
   "cell_type": "code",
   "execution_count": null,
   "metadata": {
    "collapsed": false
   },
   "outputs": [],
   "source": [
    "dist_total_idxs = [i for i, dist in enumerate(dists) if dist < 10]\n",
    "\n",
    "routes_station_filtered_dist_total = [routes_station[i] for i in dist_total_idxs]\n",
    "\n",
    "def routes_coord_filter_dist_total(routes_coord):\n",
    "    return [routes_coord[i] for i in dist_total_idxs]\n",
    "\n",
    "routes_coord_cur = routes_coord_filter_dist_total(routes_coord_cur)"
   ]
  },
  {
   "cell_type": "markdown",
   "metadata": {},
   "source": [
    "### Filtering by any segment distance"
   ]
  },
  {
   "cell_type": "code",
   "execution_count": null,
   "metadata": {
    "collapsed": false
   },
   "outputs": [],
   "source": [
    "threshold_route_any = 3\n",
    "\n",
    "def filter_dist_any(routes_coord):    \n",
    "    routes_coord_filtered_dist_any_intl = []\n",
    "\n",
    "    removed_path_count = 0\n",
    "    for i in range(len(routes_coord)):\n",
    "        path = routes_coord[i]\n",
    "        bad_path = False\n",
    "\n",
    "        # If at least one distance is bigger than threshold, remove path\n",
    "        for j in range(0, len(path) - 1, 1):\n",
    "            point1, point2 = path[j], path[j + 1]\n",
    "            cur_dist = vincenty(point1, point2).miles\n",
    "            if cur_dist > threshold_route_any:\n",
    "                bad_path = True\n",
    "\n",
    "        if bad_path:\n",
    "            removed_path_count += 1\n",
    "        else:\n",
    "            routes_coord_filtered_dist_any_intl.append(path)\n",
    "\n",
    "    print(\"Removed \" + str(removed_path_count) + \" routes out of \" + str(len(routes_coord)))\n",
    "    \n",
    "    return routes_coord_filtered_dist_any_intl\n",
    "\n",
    "routes_coord_cur = filter_dist_any(routes_coord_cur)"
   ]
  },
  {
   "cell_type": "markdown",
   "metadata": {},
   "source": [
    "### Filtering by stadium-closest point distance"
   ]
  },
  {
   "cell_type": "code",
   "execution_count": null,
   "metadata": {
    "collapsed": false
   },
   "outputs": [],
   "source": [
    "threshold_route_closest = 0.5\n",
    "\n",
    "def filter_closest(routes_coord):\n",
    "    def dist_to_stadium(point):\n",
    "        return vincenty(stadium_coords, point).miles\n",
    "    \n",
    "    routes_coord_filtered_closest_intl = []\n",
    "\n",
    "    removed_path_count = 0\n",
    "    for path in routes_coord:\n",
    "        bad_path = True\n",
    "\n",
    "        # At least one point is close to the stadium\n",
    "        for i in range(len(path)):\n",
    "            if dist_to_stadium(path[i]) < threshold_route_closest:\n",
    "                bad_path = False\n",
    "\n",
    "        if bad_path:\n",
    "            removed_path_count += 1\n",
    "        else:\n",
    "            routes_coord_filtered_closest_intl.append(path)\n",
    "    \n",
    "    print(\"Removed \" + str(removed_path_count) + \" routes out of \" + str(len(routes_coord)))\n",
    "    \n",
    "    return routes_coord_filtered_closest_intl\n",
    "\n",
    "routes_coord_cur = filter_closest(routes_coord_cur)"
   ]
  },
  {
   "cell_type": "markdown",
   "metadata": {},
   "source": [
    "# Plotting current route data"
   ]
  },
  {
   "cell_type": "code",
   "execution_count": null,
   "metadata": {
    "collapsed": false
   },
   "outputs": [],
   "source": [
    "plt.clf()\n",
    "fig = plt.figure(facecolor='black')\n",
    "ax = fig.add_subplot(111, frame_on=False)\n",
    "\n",
    "m.scatter(\n",
    "    [geom.x for geom in list(station_points)],\n",
    "    [geom.y for geom in list(station_points)],\n",
    "    5, marker='.', lw=.0,\n",
    "    facecolor='#33ccff', edgecolor='w',\n",
    "    alpha=0.9, antialiased=True, zorder=3)\n",
    "\n",
    "# colors = ['red', 'white', 'blue', 'yellow', 'green']\n",
    "colors = list(mpl_colors.cnames.keys())\n",
    "cur_color = colors[0]\n",
    "\n",
    "# paths = routes_coord\n",
    "paths = routes_coord_cur\n",
    "\n",
    "# paths = paths[80:150]\n",
    "\n",
    "for j in range(len(paths)):\n",
    "    path = paths[j]\n",
    "#     pathcoords = [(station_dict[x][0], station_dict[x][1]) for x in path]\n",
    "    pathcoords = path\n",
    "    \n",
    "    cur_color = colors[j % len(colors)]\n",
    "    \n",
    "    for i in range(len(pathcoords) - 1):\n",
    "        point1, point2 = pathcoords[i], pathcoords[i + 1]\n",
    "\n",
    "#     for i in range(0, len(pathcoords) - 4, 2):\n",
    "#         point1, point2 = [pathcoords[i], pathcoords[i + 1]], [pathcoords[i + 2], pathcoords[i + 3]]\n",
    "        \n",
    "        map_point1 = Point(m(point1[0], point1[1]))\n",
    "        map_point2 = Point(m(point2[0], point2[1]))\n",
    "        \n",
    "        xs = [map_point1.x, map_point2.x]\n",
    "        ys = [map_point1.y, map_point2.y]\n",
    "        \n",
    "#         m.scatter(\n",
    "#             xs, ys,\n",
    "#             20, marker='.', lw=.0,\n",
    "#             facecolor='red', edgecolor='w',\n",
    "#             alpha=0.9, antialiased=True, zorder=5)\n",
    "        \n",
    "        plt.plot(xs, ys, linestyle='-', color=cur_color, zorder=4)\n",
    "\n",
    "print('Plotting done')\n",
    "\n",
    "# ax.add_collection(PatchCollection(df_map['patches'].values, match_original=True))\n",
    "\n",
    "fig.set_size_inches(img_width_inches, img_height_inches)\n",
    "\n",
    "plt.savefig(\n",
    "    \"data_maps_output/routes {}.png\".format(int(time.time())),\n",
    "    dpi=200, alpha=True, facecolor=fig.get_facecolor())"
   ]
  },
  {
   "cell_type": "markdown",
   "metadata": {},
   "source": [
    "# Clustering experiements"
   ]
  },
  {
   "cell_type": "code",
   "execution_count": null,
   "metadata": {
    "collapsed": true
   },
   "outputs": [],
   "source": [
    "routes_cluster_count = 150"
   ]
  },
  {
   "cell_type": "markdown",
   "metadata": {},
   "source": [
    "### Flattening routes (e.g. for point-based clustering methods)"
   ]
  },
  {
   "cell_type": "code",
   "execution_count": null,
   "metadata": {
    "collapsed": false
   },
   "outputs": [],
   "source": [
    "routes_coord_cur_flat = [[num for coords in route for num in coords] for route in routes_coord_cur]"
   ]
  },
  {
   "cell_type": "markdown",
   "metadata": {},
   "source": [
    "### k-means clustering"
   ]
  },
  {
   "cell_type": "code",
   "execution_count": null,
   "metadata": {
    "collapsed": false
   },
   "outputs": [],
   "source": [
    "kmeans = KMeans(n_clusters=4, random_state=42)\n",
    "kmeans.fit(routes_coord_cur_flat[:routes_cluster_count])\n",
    "idxs = kmeans.predict(routes_coord_cur_flat[:routes_cluster_count])\n",
    "idxs"
   ]
  },
  {
   "cell_type": "markdown",
   "metadata": {},
   "source": [
    "### Clustering results plotting"
   ]
  },
  {
   "cell_type": "code",
   "execution_count": null,
   "metadata": {
    "collapsed": false
   },
   "outputs": [],
   "source": [
    "plt.clf()\n",
    "fig = plt.figure(facecolor='black')\n",
    "ax = fig.add_subplot(111, frame_on=False)\n",
    "\n",
    "dev = m.scatter(\n",
    "    [geom.x for geom in list(station_points)],\n",
    "    [geom.y for geom in list(station_points)],\n",
    "    5, marker='.', lw=.25,\n",
    "    facecolor='#33ccff', edgecolor='w',\n",
    "    alpha=0.9, antialiased=True, zorder=3)\n",
    "\n",
    "# colors = list(mpl_colors.cnames.keys())\n",
    "colors = ['red', 'white', 'blue', 'yellow', 'green', 'cyan']\n",
    "\n",
    "all_coords = list(routes_coord_cur_flat[:routes_cluster_count])\n",
    "for j in range(len(all_coords)):\n",
    "    pathcoords = all_coords[j]\n",
    "    for i in range(0, len(pathcoords) - 4, 2):\n",
    "        point1, point2 = (pathcoords[i], pathcoords[i + 1]), (pathcoords[i + 2], pathcoords[i + 3])\n",
    "        map_point1 = Point(m(point1[0], point1[1]))\n",
    "        map_point2 = Point(m(point2[0], point2[1]))\n",
    "        xs = [map_point1.x, map_point2.x]\n",
    "        ys = [map_point1.y, map_point2.y]\n",
    "        \n",
    "#         m.scatter(\n",
    "#             xs, ys,\n",
    "#             20, marker='.', lw=.0,\n",
    "#             facecolor='red', edgecolor='w',\n",
    "#             alpha=0.9, antialiased=True, zorder=5)\n",
    "        \n",
    "        plt.plot(xs, ys, linestyle='-', color=colors[(idxs[j]) % len(colors)])\n",
    "\n",
    "print('Plotting done')\n",
    "\n",
    "# ax.add_collection(PatchCollection(df_map['patches'].values, match_original=True))\n",
    "\n",
    "fig.set_size_inches(img_width_inches, img_height_inches)\n",
    "plt.savefig(\n",
    "    \"data_maps_output/routes {}.png\".format(int(time.time())),\n",
    "    dpi=200, alpha=True, facecolor=fig.get_facecolor())"
   ]
  },
  {
   "cell_type": "markdown",
   "metadata": {},
   "source": [
    "### Cluster centroids plotting (for k-means etc.)"
   ]
  },
  {
   "cell_type": "code",
   "execution_count": null,
   "metadata": {
    "collapsed": false
   },
   "outputs": [],
   "source": [
    "plt.clf()\n",
    "fig = plt.figure(facecolor='black')\n",
    "ax = fig.add_subplot(111, frame_on=False)\n",
    "\n",
    "# colors = list(mpl_colors.cnames.keys())\n",
    "colors = ['red', 'white', 'blue', 'yellow', 'green', 'cyan']\n",
    "\n",
    "dev = m.scatter(\n",
    "    [geom.x for geom in list(station_points)],\n",
    "    [geom.y for geom in list(station_points)],\n",
    "    5, marker='.', lw=.25,\n",
    "    facecolor='#33ccff', edgecolor='w',\n",
    "    alpha=0.9, antialiased=True, zorder=3)\n",
    "\n",
    "for j, pathcoords in enumerate(kmeans.cluster_centers_):\n",
    "    for i in range(0, len(pathcoords) - 4, 2):\n",
    "        point1, point2 = [pathcoords[i], pathcoords[i + 1]], [pathcoords[i + 2], pathcoords[i + 3]]\n",
    "        map_point1 = Point(m(point1[0], point1[1]))\n",
    "        map_point2 = Point(m(point2[0], point2[1]))\n",
    "        xs = [map_point1.x, map_point2.x]\n",
    "        ys = [map_point1.y, map_point2.y]\n",
    "        plt.plot(xs, ys, linestyle='-', color=colors[j % len(colors)])\n",
    "\n",
    "print('Plotting done')\n",
    "\n",
    "# ax.add_collection(PatchCollection(df_map['patches'].values, match_original=True))\n",
    "\n",
    "fig.set_size_inches(img_width_inches, img_height_inches)\n",
    "plt.savefig(\n",
    "    \"data_maps_output/routes {}.png\".format(int(time.time())),\n",
    "    dpi=200, alpha=True, facecolor=fig.get_facecolor())"
   ]
  },
  {
   "cell_type": "code",
   "execution_count": null,
   "metadata": {
    "collapsed": true
   },
   "outputs": [],
   "source": []
  }
 ],
 "metadata": {
  "kernelspec": {
   "display_name": "Python 3",
   "language": "python",
   "name": "python3"
  },
  "language_info": {
   "codemirror_mode": {
    "name": "ipython",
    "version": 3
   },
   "file_extension": ".py",
   "mimetype": "text/x-python",
   "name": "python",
   "nbconvert_exporter": "python",
   "pygments_lexer": "ipython3",
   "version": "3.5.1"
  }
 },
 "nbformat": 4,
 "nbformat_minor": 0
}
