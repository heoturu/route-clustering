{
 "cells": [
  {
   "cell_type": "code",
   "execution_count": null,
   "metadata": {
    "collapsed": true
   },
   "outputs": [],
   "source": [
    "%matplotlib inline"
   ]
  },
  {
   "cell_type": "code",
   "execution_count": null,
   "metadata": {
    "collapsed": true
   },
   "outputs": [],
   "source": [
    "import pandas as pd\n",
    "import pickle\n",
    "\n",
    "import fiona\n",
    "from itertools import chain\n",
    "\n",
    "import matplotlib.pyplot as plt\n",
    "from matplotlib.collections import PatchCollection\n",
    "from mpl_toolkits.basemap import Basemap\n",
    "from shapely.geometry import Point, Polygon, MultiPoint\n",
    "from descartes import PolygonPatch\n",
    "\n",
    "import matplotlib.colors as mpl_colors\n",
    "from random import randint\n",
    "import time\n",
    "\n",
    "from geopy.distance import vincenty\n",
    "\n",
    "from sklearn.cluster import MiniBatchKMeans\n",
    "from sklearn.cluster import KMeans\n",
    "from sklearn.cluster import SpectralClustering\n",
    "from sklearn.metrics import silhouette_score"
   ]
  },
  {
   "cell_type": "code",
   "execution_count": null,
   "metadata": {
    "collapsed": false
   },
   "outputs": [],
   "source": [
    "img_width_inches = 7.22 * 3\n",
    "img_height_inches = 5.25 * 3\n",
    "\n",
    "base, offset = 80, 150\n",
    "route_idx_bay = 115\n",
    "route_idx_split = 93\n",
    "\n",
    "with open('./data_routes_pickle/cell_id_lac_info', 'rb') as f:\n",
    "    station_dict = pickle.load(f)\n",
    "    \n",
    "with open('./data_routes_pickle/routes_user_id', 'rb') as f:\n",
    "    routes_user_id = pickle.load(f)\n",
    "\n",
    "with open('./data_routes_pickle/routes_coord', 'rb') as f:\n",
    "    routes_coord = pickle.load(f)\n",
    "\n",
    "with open('./data_routes_pickle/routes_cell_id', 'rb') as f:\n",
    "    routes_station = pickle.load(f)"
   ]
  },
  {
   "cell_type": "code",
   "execution_count": null,
   "metadata": {
    "collapsed": false
   },
   "outputs": [],
   "source": [
    "len(routes_station)"
   ]
  },
  {
   "cell_type": "code",
   "execution_count": null,
   "metadata": {
    "collapsed": false
   },
   "outputs": [],
   "source": [
    "shp = fiona.open('data_maps_input/spb.shp')\n",
    "bds = shp.bounds\n",
    "shp.close()\n",
    "\n",
    "ll = bds[0], bds[1]\n",
    "ur = bds[2], bds[3]\n",
    "coords = list(chain(ll, ur))\n",
    "w, h = coords[2] - coords[0], coords[3] - coords[1]\n",
    "zoom_out_frac = 0.0\n",
    "\n",
    "m = Basemap(\n",
    "    projection='tmerc',\n",
    "    lon_0=30.5,\n",
    "    lat_0=60.,\n",
    "    ellps='WGS84',\n",
    "    llcrnrlon=coords[0] - zoom_out_frac * w,\n",
    "    llcrnrlat=coords[1] - zoom_out_frac * h,\n",
    "    urcrnrlon=coords[2] + zoom_out_frac * w,\n",
    "    urcrnrlat=coords[3] + zoom_out_frac * h,\n",
    "    lat_ts=0,\n",
    "    resolution='i',\n",
    "    suppress_ticks=True)"
   ]
  },
  {
   "cell_type": "code",
   "execution_count": null,
   "metadata": {
    "collapsed": false
   },
   "outputs": [],
   "source": [
    "m.readshapefile(\n",
    "    'data_maps_input/spb',\n",
    "    'city_polygons',\n",
    "    drawbounds=False)\n",
    "\n",
    "df_map = pd.DataFrame({\n",
    "    'poly': [Polygon(polygon_coords) for polygon_coords in m.city_polygons]})\n",
    "\n",
    "df_map['patches'] = df_map['poly'].map(lambda x: PolygonPatch(\n",
    "    x,\n",
    "    fc='#555555',\n",
    "    ec='#787878', lw=0.25, alpha=.9,\n",
    "    zorder=2))"
   ]
  },
  {
   "cell_type": "code",
   "execution_count": null,
   "metadata": {
    "collapsed": false
   },
   "outputs": [],
   "source": [
    "map_points = pd.Series(\n",
    "    [Point(m(mapped_x, mapped_y)) for mapped_x, mapped_y in \n",
    "     [(station_dict[i][0], station_dict[i][1]) for i in station_dict]])\n",
    "\n",
    "station_points = MultiPoint(list(map_points.values))"
   ]
  },
  {
   "cell_type": "code",
   "execution_count": null,
   "metadata": {
    "collapsed": false
   },
   "outputs": [],
   "source": [
    "dists = [0.0] * len(routes_coord)\n",
    "for i in range(len(routes_coord)):\n",
    "    path = routes_coord[i]\n",
    "    for j in range(len(path) - 1):\n",
    "        point1, point2 = path[j], path[j + 1]\n",
    "        dists[i] += vincenty(point1, point2).miles"
   ]
  },
  {
   "cell_type": "code",
   "execution_count": null,
   "metadata": {
    "collapsed": false
   },
   "outputs": [],
   "source": [
    "global_dist_idxs = [i for i, dist in enumerate(dists) if dist < 7]\n",
    "routes_station_filtered_global_dist = [routes_station[i] for i in global_dist_idxs]\n",
    "print(len(routes_station))\n",
    "print(len(routes_station_filtered_global_dist))"
   ]
  },
  {
   "cell_type": "code",
   "execution_count": null,
   "metadata": {
    "collapsed": false
   },
   "outputs": [],
   "source": [
    "plt.clf()\n",
    "fig = plt.figure(facecolor='black')\n",
    "ax = fig.add_subplot(111, frame_on=False)\n",
    "\n",
    "m.scatter(\n",
    "    [geom.x for geom in list(station_points)],\n",
    "    [geom.y for geom in list(station_points)],\n",
    "    30, marker='.', lw=.0,\n",
    "    facecolor='#33ccff', edgecolor='w',\n",
    "    alpha=0.9, antialiased=True, zorder=3)\n",
    "\n",
    "# colors = ['red', 'white', 'blue', 'yellow', 'green']\n",
    "colors = list(mpl_colors.cnames.keys())\n",
    "cur_color = colors[0]\n",
    "\n",
    "paths = routes_station[80:150]\n",
    "# paths = routes_coord\n",
    "\n",
    "for j in range(len(paths)):\n",
    "    path = paths[j]\n",
    "    pathcoords = [(station_dict[x][0], station_dict[x][1]) for x in path]\n",
    "#     pathcoords = path\n",
    "    \n",
    "    cur_color = colors[j % len(colors)]\n",
    "    \n",
    "    for i in range(len(pathcoords) - 1):\n",
    "        point1, point2 = pathcoords[i], pathcoords[i + 1]\n",
    "        \n",
    "        map_point1 = Point(m(point1[0], point1[1]))\n",
    "        map_point2 = Point(m(point2[0], point2[1]))\n",
    "        \n",
    "        xs = [map_point1.x, map_point2.x]\n",
    "        ys = [map_point1.y, map_point2.y]\n",
    "        \n",
    "        m.scatter(\n",
    "            xs, ys,\n",
    "            20, marker='.', lw=.0,\n",
    "            facecolor='red', edgecolor='w',\n",
    "            alpha=0.9, antialiased=True, zorder=5)\n",
    "        \n",
    "        plt.plot(xs, ys, linestyle='-', color=cur_color, zorder=4)\n",
    "\n",
    "print('Plotting done')\n",
    "\n",
    "# ax.add_collection(PatchCollection(df_map['patches'].values, match_original=True))\n",
    "\n",
    "fig.set_size_inches(img_width_inches, img_height_inches)\n",
    "\n",
    "plt.savefig(\n",
    "    \"data_maps_output/routes {}.png\".format(int(time.time())),\n",
    "    dpi=200, alpha=True, facecolor=fig.get_facecolor())"
   ]
  },
  {
   "cell_type": "code",
   "execution_count": null,
   "metadata": {
    "collapsed": false
   },
   "outputs": [],
   "source": [
    "kmeans = KMeans(n_clusters=15, random_state=42)\n",
    "kmeans.fit(coord_list[:100])\n",
    "idxs = kmeans.predict(coord_list[:100])\n",
    "idxs"
   ]
  },
  {
   "cell_type": "code",
   "execution_count": null,
   "metadata": {
    "collapsed": false
   },
   "outputs": [],
   "source": [
    "plt.clf()\n",
    "fig = plt.figure()\n",
    "ax = fig.add_subplot(111, axisbg='w', frame_on=False)\n",
    "\n",
    "# we don't need to pass points to m() because we calculated using map_points and shapefile polygons\n",
    "dev = m.scatter(\n",
    "    [geom.x for geom in list(station_points)],\n",
    "    [geom.y for geom in list(station_points)],\n",
    "    5, marker='.', lw=.25,\n",
    "    facecolor='#33ccff', edgecolor='w',\n",
    "    alpha=0.9, antialiased=True, zorder=3)\n",
    "\n",
    "# colors = ['red', 'black', 'blue', 'yellow', 'green']\n",
    "colors = list(mpl_colors.cnames.keys())\n",
    "base = 48\n",
    "# TODO WTF Why -2\n",
    "all_coords = list(coord_list)[base:base + 50]\n",
    "for j in range(len(all_coords)):\n",
    "    pathcoords = all_coords[j]\n",
    "    for i in range(0, len(pathcoords) - 4, 2):\n",
    "        point1, point2 = [pathcoords[i], pathcoords[i + 1]], [pathcoords[i + 2], pathcoords[i + 3]]\n",
    "        map_point1 = Point(m(point1[0], point1[1]))\n",
    "        map_point2 = Point(m(point2[0], point2[1]))\n",
    "        xs = [map_point1.x, map_point2.x]\n",
    "        ys = [map_point1.y, map_point2.y]\n",
    "        plt.plot(xs, ys, linestyle='-', color=colors[(20 * idxs[base + j]) % len(colors)]) # dirty hack\n",
    "\n",
    "print('Plotting done')\n",
    "\n",
    "# ax.add_collection(PatchCollection(df_map['patches'].values, match_original=True))\n",
    "\n",
    "fig.set_size_inches(img_width_inches, img_height_inches)\n",
    "plt.savefig(\"data_maps_output/routes {}.png\".format(int(time.time())), dpi=200, alpha=True)"
   ]
  },
  {
   "cell_type": "code",
   "execution_count": null,
   "metadata": {
    "collapsed": false
   },
   "outputs": [],
   "source": [
    "idx_set = set(idxs)\n",
    "idx_set"
   ]
  },
  {
   "cell_type": "code",
   "execution_count": null,
   "metadata": {
    "collapsed": false
   },
   "outputs": [],
   "source": [
    "plt.clf()\n",
    "fig = plt.figure()\n",
    "ax = fig.add_subplot(111, axisbg='w', frame_on=False)\n",
    "\n",
    "# colors = ['red', 'black', 'blue', 'yellow', 'green']\n",
    "colors = list(mpl_colors.cnames.keys())\n",
    "\n",
    "dev = m.scatter(\n",
    "    [geom.x for geom in list(station_points)],\n",
    "    [geom.y for geom in list(station_points)],\n",
    "    5, marker='.', lw=.25,\n",
    "    facecolor='#33ccff', edgecolor='w',\n",
    "    alpha=0.9, antialiased=True, zorder=3)\n",
    "\n",
    "for j, pathcoords in enumerate(kmeans.cluster_centers_):\n",
    "#     print(pathcoords)\n",
    "    for i in range(0, len(pathcoords) - 4, 2):\n",
    "        point1, point2 = [pathcoords[i], pathcoords[i + 1]], [pathcoords[i + 2], pathcoords[i + 3]]\n",
    "        map_point1 = Point(m(point1[0], point1[1]))\n",
    "        map_point2 = Point(m(point2[0], point2[1]))\n",
    "        xs = [map_point1.x, map_point2.x]\n",
    "        ys = [map_point1.y, map_point2.y]\n",
    "        plt.plot(xs, ys, linestyle='-', color=colors[(17 * idxs[base + j]) % len(colors)])\n",
    "\n",
    "print('Plotting done')\n",
    "\n",
    "# plot boroughs by adding the PatchCollection to the axes instance\n",
    "# ax.add_collection(PatchCollection(df_map['patches'].values, match_original=True))\n",
    "\n",
    "fig.set_size_inches(img_width_inches, img_height_inches)\n",
    "plt.savefig(\"data_maps_output/routes {}.png\".format(int(time.time())), dpi=200, alpha=True)"
   ]
  }
 ],
 "metadata": {
  "kernelspec": {
   "display_name": "Python 3",
   "language": "python",
   "name": "python3"
  },
  "language_info": {
   "codemirror_mode": {
    "name": "ipython",
    "version": 3
   },
   "file_extension": ".py",
   "mimetype": "text/x-python",
   "name": "python",
   "nbconvert_exporter": "python",
   "pygments_lexer": "ipython3",
   "version": "3.5.1"
  }
 },
 "nbformat": 4,
 "nbformat_minor": 0
}
