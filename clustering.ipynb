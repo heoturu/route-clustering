{
 "cells": [
  {
   "cell_type": "code",
   "execution_count": null,
   "metadata": {
    "collapsed": true
   },
   "outputs": [],
   "source": [
    "%matplotlib inline"
   ]
  },
  {
   "cell_type": "code",
   "execution_count": null,
   "metadata": {
    "collapsed": true
   },
   "outputs": [],
   "source": [
    "import pandas as pd\n",
    "import numpy as np\n",
    "import pickle\n",
    "\n",
    "from itertools import chain\n",
    "from itertools import product\n",
    "from itertools import groupby\n",
    "from operator import itemgetter\n",
    "\n",
    "import fiona\n",
    "import matplotlib.pyplot as plt\n",
    "from matplotlib.collections import PatchCollection\n",
    "from mpl_toolkits.basemap import Basemap\n",
    "from shapely.geometry import Point, Polygon, MultiPoint\n",
    "from descartes import PolygonPatch\n",
    "\n",
    "import matplotlib.colors as mpl_colors\n",
    "from random import randint\n",
    "import time\n",
    "\n",
    "from geopy.distance import vincenty\n",
    "\n",
    "from sklearn.cluster import MiniBatchKMeans\n",
    "from sklearn.cluster import KMeans\n",
    "from sklearn.cluster import SpectralClustering\n",
    "from sklearn.cluster import DBSCAN\n",
    "from sklearn.metrics import silhouette_score"
   ]
  },
  {
   "cell_type": "markdown",
   "metadata": {},
   "source": [
    "# Setting up environment"
   ]
  },
  {
   "cell_type": "code",
   "execution_count": null,
   "metadata": {
    "collapsed": true
   },
   "outputs": [],
   "source": [
    "img_width_inches = 7.22 * 3\n",
    "img_height_inches = 5.25 * 3\n",
    "\n",
    "stadium_coords = 30.28725, 59.95271\n",
    "def dist_to_stadium(point):\n",
    "    return vincenty(stadium_coords, point).miles"
   ]
  },
  {
   "cell_type": "code",
   "execution_count": null,
   "metadata": {
    "collapsed": false
   },
   "outputs": [],
   "source": [
    "with open('./data_routes_pickle/cell_id_lac_info', 'rb') as f:\n",
    "    station_dict = pickle.load(f)\n",
    "    \n",
    "with open('./data_routes_pickle/routes_user_id', 'rb') as f:\n",
    "    routes_user_id = pickle.load(f)\n",
    "\n",
    "with open('./data_routes_pickle/routes_coord', 'rb') as f:\n",
    "    routes_coord = pickle.load(f)\n",
    "\n",
    "with open('./data_routes_pickle/routes_cell_id', 'rb') as f:\n",
    "    routes_station = pickle.load(f)"
   ]
  },
  {
   "cell_type": "markdown",
   "metadata": {},
   "source": [
    "### Reading map (really long operation)"
   ]
  },
  {
   "cell_type": "code",
   "execution_count": null,
   "metadata": {
    "collapsed": false
   },
   "outputs": [],
   "source": [
    "m.readshapefile(\n",
    "    'data_maps_input/spb',\n",
    "    'city_polygons',\n",
    "    drawbounds=False)\n",
    "\n",
    "df_map = pd.DataFrame({\n",
    "    'poly': [Polygon(polygon_coords) for polygon_coords in m.city_polygons]})\n",
    "\n",
    "df_map['patches'] = df_map['poly'].map(lambda x: PolygonPatch(\n",
    "    x,\n",
    "    fc='black',\n",
    "    ec='grey', lw=0.55, alpha=1.,\n",
    "    zorder=2))"
   ]
  },
  {
   "cell_type": "markdown",
   "metadata": {},
   "source": [
    "### Creating basemap, setting up scale etc."
   ]
  },
  {
   "cell_type": "code",
   "execution_count": null,
   "metadata": {
    "collapsed": false
   },
   "outputs": [],
   "source": [
    "shp = fiona.open('data_maps_input/spb.shp')\n",
    "bds = shp.bounds\n",
    "shp.close()\n",
    "\n",
    "ll = bds[0], bds[1]\n",
    "ur = bds[2], bds[3]\n",
    "coords = list(chain(ll, ur))\n",
    "w, h = coords[2] - coords[0], coords[3] - coords[1]\n",
    "zoom_out_frac = -0.46\n",
    "\n",
    "# new_coords_2 = coords[2] + (coords[2] - coords[0]) * 0.06\n",
    "\n",
    "m = Basemap(\n",
    "    projection='tmerc',\n",
    "    lon_0=30.5,\n",
    "    lat_0=60.,\n",
    "    ellps='WGS84',\n",
    "    llcrnrlon=coords[0] + (coords[2] - coords[0]) * 0.06 - zoom_out_frac * w,\n",
    "    llcrnrlat=coords[1] - zoom_out_frac * h,\n",
    "    urcrnrlon=coords[2] + (coords[2] - coords[0]) * 0.06 + zoom_out_frac * w,\n",
    "    urcrnrlat=coords[3] + zoom_out_frac * h,\n",
    "    lat_ts=0,\n",
    "    resolution='i',\n",
    "    suppress_ticks=True)"
   ]
  },
  {
   "cell_type": "code",
   "execution_count": null,
   "metadata": {
    "collapsed": false
   },
   "outputs": [],
   "source": [
    "map_points = pd.Series(\n",
    "    [Point(m(mapped_x, mapped_y)) for mapped_x, mapped_y in \n",
    "     [(station_dict[i][0], station_dict[i][1]) for i in station_dict]])\n",
    "\n",
    "station_points = MultiPoint(list(map_points.values))"
   ]
  },
  {
   "cell_type": "markdown",
   "metadata": {},
   "source": [
    "# Filtering"
   ]
  },
  {
   "cell_type": "markdown",
   "metadata": {},
   "source": [
    "### Current routes resetting"
   ]
  },
  {
   "cell_type": "code",
   "execution_count": null,
   "metadata": {
    "collapsed": false
   },
   "outputs": [],
   "source": [
    "routes_coord_cur = routes_coord\n",
    "routes_user_id_cur = routes_user_id"
   ]
  },
  {
   "cell_type": "markdown",
   "metadata": {},
   "source": [
    "### Filtering by total distance"
   ]
  },
  {
   "cell_type": "code",
   "execution_count": null,
   "metadata": {
    "collapsed": true
   },
   "outputs": [],
   "source": [
    "dists_total = [0.0] * len(routes_coord)\n",
    "for i in range(len(routes_coord)):\n",
    "    path = routes_coord[i]\n",
    "    for j in range(len(path) - 1):\n",
    "        point1, point2 = path[j], path[j + 1]\n",
    "        dists_total[i] += vincenty(point1, point2).miles"
   ]
  },
  {
   "cell_type": "code",
   "execution_count": null,
   "metadata": {
    "collapsed": false
   },
   "outputs": [],
   "source": [
    "dist_total_idxs = [i for i, dist in enumerate(dists) if dist < 10]\n",
    "\n",
    "routes_station_filtered_dist_total = [routes_station[i] for i in dist_total_idxs]\n",
    "\n",
    "def routes_coord_filter_dist_total(routes_coord):\n",
    "    return [routes_coord[i] for i in dist_total_idxs]\n",
    "\n",
    "routes_coord_cur = routes_coord_filter_dist_total(routes_coord_cur)"
   ]
  },
  {
   "cell_type": "markdown",
   "metadata": {},
   "source": [
    "### Filtering by any segment distance"
   ]
  },
  {
   "cell_type": "code",
   "execution_count": null,
   "metadata": {
    "collapsed": false
   },
   "outputs": [],
   "source": [
    "threshold_route_any = 3\n",
    "\n",
    "def filter_dist_any(routes_coord, routes_user_id):    \n",
    "    routes_coord_filtered_dist_any_intl = []\n",
    "    routes_user_id_filtered_dist_any_intl = []\n",
    "\n",
    "    removed_path_count = 0\n",
    "    for i in range(len(routes_coord)):\n",
    "        path = routes_coord[i]\n",
    "        user_id = routes_user_id[i]\n",
    "        \n",
    "        bad_path = False\n",
    "\n",
    "        # If at least one distance is bigger than threshold, remove path\n",
    "        for j in range(0, len(path) - 1):\n",
    "            point1, point2 = path[j], path[j + 1]\n",
    "            cur_dist = vincenty(point1, point2).miles\n",
    "            if cur_dist > threshold_route_any:\n",
    "                bad_path = True\n",
    "\n",
    "        if bad_path:\n",
    "            removed_path_count += 1\n",
    "        else:\n",
    "            routes_coord_filtered_dist_any_intl.append(path)\n",
    "            routes_user_id_filtered_dist_any_intl.append(user_id)\n",
    "\n",
    "    print(\"Removed \" + str(removed_path_count) + \" routes out of \" + str(len(routes_coord)))\n",
    "    \n",
    "    return routes_coord_filtered_dist_any_intl, routes_user_id_filtered_dist_any_intl\n",
    "\n",
    "routes_coord_cur, routes_user_id_cur = filter_dist_any(routes_coord_cur, routes_user_id_cur)"
   ]
  },
  {
   "cell_type": "markdown",
   "metadata": {},
   "source": [
    "### Filtering by stadium-closest point distance"
   ]
  },
  {
   "cell_type": "code",
   "execution_count": null,
   "metadata": {
    "collapsed": false
   },
   "outputs": [],
   "source": [
    "threshold_route_closest = 0.1\n",
    "\n",
    "def filter_closest(routes_coord, routes_user_id):    \n",
    "    routes_coord_filtered_closest_intl = []\n",
    "    routes_user_id_filtered_dist_any_intl = []\n",
    "    \n",
    "    removed_path_count = 0\n",
    "    for i in range(len(routes_coord)):\n",
    "        path = routes_coord[i]\n",
    "        user_id = routes_user_id[i]\n",
    "        \n",
    "        bad_path = True\n",
    "\n",
    "        # At least one point is close to the stadium\n",
    "        for i in range(len(path)):\n",
    "            if dist_to_stadium(path[i]) < threshold_route_closest:\n",
    "                bad_path = False\n",
    "\n",
    "        if bad_path:\n",
    "            removed_path_count += 1\n",
    "        else:\n",
    "            routes_coord_filtered_closest_intl.append(path)\n",
    "            routes_user_id_filtered_dist_any_intl.append(user_id)\n",
    "    \n",
    "    print(\"Removed \" + str(removed_path_count) + \" routes out of \" + str(len(routes_coord)))\n",
    "    \n",
    "    return routes_coord_filtered_closest_intl, routes_user_id_filtered_dist_any_intl\n",
    "\n",
    "routes_coord_cur, routes_user_id_cur = filter_closest(routes_coord_cur, routes_user_id_cur)"
   ]
  },
  {
   "cell_type": "markdown",
   "metadata": {},
   "source": [
    "### Removing cycles"
   ]
  },
  {
   "cell_type": "code",
   "execution_count": null,
   "metadata": {
    "collapsed": false
   },
   "outputs": [],
   "source": [
    "def remove_cycles(routes_coord, routes_user_id):\n",
    "    routes_coord_no_cycles_intl = []\n",
    "    routes_user_id_no_cycles_intl = []\n",
    "    \n",
    "    removed_path_count = 0\n",
    "    for i in range(len(routes_coord)):\n",
    "        # Converting to tuples for groupby etc. to work\n",
    "        cur_route = [tuple(coords) for coords in routes_coord[i]]\n",
    "        cur_user_id = routes_user_id[i]\n",
    "        \n",
    "        route_unique = list(map(itemgetter(0), groupby(cur_route)))\n",
    "        \n",
    "        contains_cycle = False\n",
    "        \n",
    "        for cycle_len in range(3, len(route_unique)):\n",
    "            for j in range(len(route_unique) - cycle_len):\n",
    "                if (#dist_to_stadium(route_unique[j]) < 0.05 and\n",
    "                    route_unique[j] == route_unique[j + cycle_len] and\n",
    "                    route_unique[j] != route_unique[j + 2]):\n",
    "                    contains_cycle = True\n",
    "                    break\n",
    "            if contains_cycle:\n",
    "                break\n",
    "        \n",
    "        if contains_cycle:\n",
    "#             print(i)\n",
    "            removed_path_count += 1\n",
    "        else:\n",
    "            routes_coord_no_cycles_intl.append(cur_route)\n",
    "            routes_user_id_no_cycles_intl.append(cur_user_id)\n",
    "    \n",
    "    print(\"Removed \" + str(removed_path_count) + \" routes out of \" + str(len(routes_coord)))\n",
    "    \n",
    "    return routes_coord_no_cycles_intl, routes_user_id_no_cycles_intl\n",
    "\n",
    "routes_coord_cur, routes_user_id_cur = remove_cycles(routes_coord_cur, routes_user_id_cur)"
   ]
  },
  {
   "cell_type": "code",
   "execution_count": null,
   "metadata": {
    "collapsed": false
   },
   "outputs": [],
   "source": [
    "def remove_dups(routes_coord):\n",
    "    routes_coord_no2cycles_intl = []\n",
    "    \n",
    "    removed_route_count = 0\n",
    "    for i in range(len(routes_coord)):\n",
    "#         print(*routes_coord[i], sep='\\n')\n",
    "#         print()\n",
    "        \n",
    "        route_unique = list(map(itemgetter(0), groupby(routes_coord[i])))\n",
    "        \n",
    "#         print(*route_unique, sep='\\n')\n",
    "        \n",
    "        final_route = []\n",
    "        \n",
    "        j = 0\n",
    "        while j < len(route_unique):\n",
    "#             init_j = j\n",
    "#             print(\"j = \" + str(j))\n",
    "            if j >= len(route_unique) - 2 or route_unique[j] != route_unique[j + 2]:\n",
    "                final_route.append(route_unique[j])\n",
    "                j += 1\n",
    "            else:\n",
    "                k = j + 1\n",
    "                while k < len(route_unique):\n",
    "                    if (route_unique[k] != route_unique[j] and\n",
    "                        route_unique[k] != route_unique[j + 1]):\n",
    "                        if route_unique[k - 1] == route_unique[j]:\n",
    "                            if j == 0:\n",
    "                                final_route.append(route_unique[j + 1])\n",
    "                        else:\n",
    "                            final_route.append(route_unique[j])\n",
    "                        j = k - 1\n",
    "                        break\n",
    "                    k += 1\n",
    "                if k == len(route_unique):\n",
    "                    final_route += [route_unique[j], route_unique[j + 1]]\n",
    "                    break\n",
    "\n",
    "#             if init_j == 1:\n",
    "#             print(\"end j = \" + str(j))\n",
    "#             raise Exception('Exc')\n",
    "        \n",
    "#         if not len(final_route) == len(route_unique):\n",
    "#             print(i)\n",
    "#         else:\n",
    "#             print('not ' + str(i))\n",
    "        \n",
    "        final_route = list(map(itemgetter(0), groupby(final_route)))\n",
    "        routes_coord_no2cycles_intl.append(final_route)\n",
    "    return routes_coord_no2cycles_intl\n",
    "\n",
    "routes_coord_cur = remove_dups(routes_coord_cur)"
   ]
  },
  {
   "cell_type": "code",
   "execution_count": null,
   "metadata": {
    "collapsed": false
   },
   "outputs": [],
   "source": [
    "routes_coord_cur_late = [route[24:] for route in routes_coord_cur]"
   ]
  },
  {
   "cell_type": "code",
   "execution_count": null,
   "metadata": {
    "collapsed": true
   },
   "outputs": [],
   "source": [
    "with open('data_routes_pickle/routes_coord_f_any_3_closest_0.1_nocycles', 'wb') as f:\n",
    "    pickle.dump(routes_coord_cur, f)"
   ]
  },
  {
   "cell_type": "code",
   "execution_count": null,
   "metadata": {
    "collapsed": false
   },
   "outputs": [],
   "source": [
    "routes_split = []\n",
    "for route in routes_coord_cur:\n",
    "    for i in range(len(route)):\n",
    "        if dist_to_stadium(route[i]) < 0.05:\n",
    "            if i == 0 or i == len(route) - 1:\n",
    "                routes_split.append(route)\n",
    "                break\n",
    "            routes_split += [route[:i + 1], route[i:]]\n",
    "#             if i == 2:\n",
    "#                 print(route[:i + 1])\n",
    "\n",
    "print(len(routes_split))\n",
    "routes_coord_cur = list(filter(lambda route: len(route) > 2, routes_split))\n",
    "print(len(routes_split))"
   ]
  },
  {
   "cell_type": "markdown",
   "metadata": {},
   "source": [
    "# Plotting current route data"
   ]
  },
  {
   "cell_type": "code",
   "execution_count": null,
   "metadata": {
    "collapsed": false
   },
   "outputs": [],
   "source": [
    "plt.clf()\n",
    "fig = plt.figure(facecolor='black')\n",
    "ax = fig.add_subplot(111, frame_on=False)\n",
    "\n",
    "m.scatter(\n",
    "    [geom.x for geom in list(station_points)],\n",
    "    [geom.y for geom in list(station_points)],\n",
    "    5, marker='.', lw=.0,\n",
    "    facecolor='#33ccff', edgecolor='w',\n",
    "    alpha=0.9, antialiased=True, zorder=3)\n",
    "\n",
    "# colors = ['red', 'white', 'blue', 'yellow', 'green']\n",
    "# colors = list(mpl_colors.cnames.keys())\n",
    "# cur_color = colors[0]\n",
    "\n",
    "routes_plot = routes_coord_cur[0:100]\n",
    "# routes_plot = route_nodups\n",
    "\n",
    "for j in range(len(routes_plot)):\n",
    "    route_plot = routes_plot[j]\n",
    "#     pathcoords = [(station_dict[x][0], station_dict[x][1]) for x in routes_plot]\n",
    "    pathcoords = route_plot\n",
    "    \n",
    "    cur_color = colors[j % len(colors)]\n",
    "    \n",
    "    for i in range(0, len(pathcoords) - 1):\n",
    "        point1, point2 = pathcoords[i], pathcoords[i + 1]\n",
    "        \n",
    "        map_point1 = Point(m(point1[0], point1[1]))\n",
    "        map_point2 = Point(m(point2[0], point2[1]))\n",
    "        \n",
    "        xs = [map_point1.x, map_point2.x]\n",
    "        ys = [map_point1.y, map_point2.y]\n",
    "        \n",
    "#         if i == len(pathcoords) - 2:\n",
    "#         m.scatter(xs, ys, 20, marker='.', lw=.0, \n",
    "#                   facecolor='red', edgecolor='w', alpha=0.9, antialiased=True, zorder=5)\n",
    "\n",
    "        plt.plot(xs, ys, linestyle='-', color=cur_color, zorder=4, alpha=0.5)\n",
    "\n",
    "print('Plotting done')\n",
    "\n",
    "# ax.add_collection(PatchCollection(df_map['patches'].values, match_original=True))\n",
    "\n",
    "fig.set_size_inches(img_width_inches, img_height_inches)\n",
    "\n",
    "plt.savefig(\n",
    "    \"data_maps_output/routes {}.png\".format(int(time.time())),\n",
    "    dpi=200, alpha=True, facecolor=fig.get_facecolor())"
   ]
  },
  {
   "cell_type": "markdown",
   "metadata": {},
   "source": [
    "# Data manupulation"
   ]
  },
  {
   "cell_type": "code",
   "execution_count": null,
   "metadata": {
    "collapsed": false
   },
   "outputs": [],
   "source": [
    "station_rating_map = {}\n",
    "for i in range(len(routes_coord)):\n",
    "    route = routes_coord[i]\n",
    "    for j in range(len(route)):\n",
    "        cur_coord = tuple(route[j])\n",
    "        if cur_coord not in station_rating_map:\n",
    "            station_rating_map[cur_coord] = 1\n",
    "        else:\n",
    "            station_rating_map[cur_coord] += 1"
   ]
  },
  {
   "cell_type": "code",
   "execution_count": null,
   "metadata": {
    "collapsed": false
   },
   "outputs": [],
   "source": [
    "most_visited_station_idxs = \\\n",
    "    sorted(station_rating_map, key=station_rating_map.get, reverse=True)\n",
    "[station_rating_map[idx] for idx in most_visited_station_idxs[:200]]"
   ]
  },
  {
   "cell_type": "code",
   "execution_count": null,
   "metadata": {
    "collapsed": false
   },
   "outputs": [],
   "source": [
    "plt.clf()\n",
    "fig = plt.figure(facecolor='black')\n",
    "ax = fig.add_subplot(111, frame_on=False)\n",
    "\n",
    "ratings = []\n",
    "for i in station_dict:    \n",
    "    cur_station_coords = (station_dict[i][0], station_dict[i][1])\n",
    "    ratings.append(station_rating_map[cur_station_coords] / 10 if cur_station_coords in station_rating_map else 0)\n",
    "\n",
    "m.scatter(\n",
    "    [geom.x for geom in list(station_points)],\n",
    "    [geom.y for geom in list(station_points)],\n",
    "    s=ratings, marker='.', lw=.0,\n",
    "    facecolor='#33ccff', edgecolor='w',\n",
    "    alpha=0.9, antialiased=True, zorder=3)\n",
    "\n",
    "print('Plotting done')\n",
    "\n",
    "ax.add_collection(PatchCollection(df_map['patches'].values, match_original=True))\n",
    "\n",
    "fig.set_size_inches(img_width_inches, img_height_inches)\n",
    "\n",
    "plt.savefig(\n",
    "    \"data_maps_output/routes {}.png\".format(int(time.time())),\n",
    "    dpi=200, alpha=True, facecolor=fig.get_facecolor())"
   ]
  },
  {
   "cell_type": "markdown",
   "metadata": {},
   "source": [
    "# Clustering experiements"
   ]
  },
  {
   "cell_type": "code",
   "execution_count": null,
   "metadata": {
    "collapsed": true
   },
   "outputs": [],
   "source": [
    "routes_cluster_count = 150"
   ]
  },
  {
   "cell_type": "code",
   "execution_count": null,
   "metadata": {
    "collapsed": false
   },
   "outputs": [],
   "source": [
    "with open('data_routes_pickle/sim_matrix_sim_segments_1', 'rb') as f:\n",
    "    sim_matrix = np.array(pickle.load(f))"
   ]
  },
  {
   "cell_type": "code",
   "execution_count": null,
   "metadata": {
    "collapsed": false
   },
   "outputs": [],
   "source": [
    "sim_matrix"
   ]
  },
  {
   "cell_type": "code",
   "execution_count": null,
   "metadata": {
    "collapsed": false
   },
   "outputs": [],
   "source": [
    "np.unravel_index(np.argmax(sim_matrix), sim_matrix.shape)\n",
    "np.amax(sim_matrix) "
   ]
  },
  {
   "cell_type": "code",
   "execution_count": null,
   "metadata": {
    "collapsed": false
   },
   "outputs": [],
   "source": [
    "for i in range(len(sim_matrix1)):\n",
    "    for j in range(len(sim_matrix1[0])):\n",
    "        if i != j:\n",
    "            sim_matrix[i][j] = 250 - sim_matrix[i][j]"
   ]
  },
  {
   "cell_type": "code",
   "execution_count": null,
   "metadata": {
    "collapsed": false
   },
   "outputs": [],
   "source": [
    "max_points_count = 10\n",
    "max_idxs_raveled = (-sim_matrix).argsort(axis=None)[:max_points_count]\n",
    "max_idxs_unravled = np.unravel_index(max_idxs_raveled, sim_matrix.shape)\n",
    "max_sim_route_idxs = np.array(max_idxs_unravled).T\n",
    "max_sim_route_idxs\n",
    "# for i in range(max_points_count):\n",
    "#     cur_idxs = max_sim_route_idxs[i]\n",
    "#     print(sim_matrix[cur_idxs[0], cur_idxs[1]])"
   ]
  },
  {
   "cell_type": "markdown",
   "metadata": {},
   "source": [
    "### Flattening routes (e.g. for point-based clustering methods)"
   ]
  },
  {
   "cell_type": "code",
   "execution_count": null,
   "metadata": {
    "collapsed": false
   },
   "outputs": [],
   "source": [
    "routes_coord_cur_flat = [[num for coords in route for num in coords] for route in routes_coord_cur]"
   ]
  },
  {
   "cell_type": "markdown",
   "metadata": {},
   "source": [
    "### k-means clustering"
   ]
  },
  {
   "cell_type": "code",
   "execution_count": null,
   "metadata": {
    "collapsed": false
   },
   "outputs": [],
   "source": [
    "kmeans = KMeans(n_clusters=2, random_state=42)\n",
    "# kmeans.fit(routes_coord_cur_flat[:routes_cluster_count])\n",
    "# idxs = kmeans.predict(routes_coord_cur_flat[:routes_cluster_count])\n",
    "idxs = kmeans.fit_predict(sim_matrix)\n",
    "idxs"
   ]
  },
  {
   "cell_type": "code",
   "execution_count": null,
   "metadata": {
    "collapsed": false
   },
   "outputs": [],
   "source": [
    "for cluster_count in range(2, 15):\n",
    "    kmeans = KMeans(n_clusters=cluster_count, random_state=42)\n",
    "    \n",
    "    # For routes of the same length\n",
    "#     kmeans.fit(routes_coord_cur_flat)\n",
    "#     idxs = kmeans.predict(routes_coord_cur_flat)\n",
    "\n",
    "    idxs = kmeans.fit_predict(sim_matrix)\n",
    "    print(silhouette_score(sim_matrix, idxs, metric='precomputed'))"
   ]
  },
  {
   "cell_type": "markdown",
   "metadata": {},
   "source": [
    "### Clustering results plotting"
   ]
  },
  {
   "cell_type": "code",
   "execution_count": null,
   "metadata": {
    "collapsed": false
   },
   "outputs": [],
   "source": [
    "for cluster_num in range(num_clusters_cur):\n",
    "    # plt.clf()\n",
    "    fig = plt.figure(facecolor='black')\n",
    "    ax = fig.add_subplot(111, frame_on=False)\n",
    "\n",
    "    dev = m.scatter(\n",
    "        [geom.x for geom in list(station_points)],\n",
    "        [geom.y for geom in list(station_points)],\n",
    "        5, marker='.', lw=.25,\n",
    "        facecolor='#33ccff', edgecolor='w',\n",
    "        alpha=0.9, antialiased=True, zorder=3)\n",
    "\n",
    "    # from random import shuffle\n",
    "    # colors = list(mpl_colors.cnames.keys())\n",
    "    # shuffle(colors)\n",
    "    colors = ['red', 'white', 'blue', 'yellow', 'green', 'cyan', 'purple']\n",
    "\n",
    "    all_coords = list(routes_coord_cur)\n",
    "    for j in range(len(all_coords)):\n",
    "        pathcoords = all_coords[j]\n",
    "\n",
    "        for i in range(0, len(pathcoords) - 1):\n",
    "            if idxs[j] == cluster_num:\n",
    "                point1, point2 = pathcoords[i], pathcoords[i + 1]\n",
    "                map_point1 = Point(m(point1[0], point1[1]))\n",
    "                map_point2 = Point(m(point2[0], point2[1]))\n",
    "                xs = [map_point1.x, map_point2.x]\n",
    "                ys = [map_point1.y, map_point2.y]\n",
    "\n",
    "    #             m.scatter(xs, ys, 20, marker='.', lw=.0,\n",
    "    #                       facecolor='red', edgecolor='w', alpha=0.9, antialiased=True, zorder=5)\n",
    "\n",
    "                plt.plot(xs, ys, linestyle='-', color=colors[idxs[j] % len(colors)])\n",
    "    #             plt.plot(xs, ys, linestyle='-', color=colors[j % len(colors)])\n",
    "\n",
    "    #             max_sim_route_idx = max_sim_route_idxs[4]\n",
    "    #             if j == 90: # max_sim_route_idx[0]:\n",
    "    #                 plt.plot(xs, ys, linestyle='-', color='red', alpha=0.5)\n",
    "    #             elif j == 97: # max_sim_route_idx[1]:\n",
    "    #                 plt.plot(xs, ys, linestyle='-', color='blue', alpha=0.5)\n",
    "\n",
    "    print('Plotting done')\n",
    "\n",
    "    # ax.add_collection(PatchCollection(df_map['patches'].values, match_original=True))\n",
    "\n",
    "    fig.set_size_inches(img_width_inches, img_height_inches)\n",
    "    plt.savefig(\n",
    "        \"data_maps_output/routes {}.png\".format(int(time.time())),\n",
    "        dpi=200, alpha=True, facecolor=fig.get_facecolor())"
   ]
  },
  {
   "cell_type": "markdown",
   "metadata": {},
   "source": [
    "### Cluster centroids plotting (for k-means etc.)"
   ]
  },
  {
   "cell_type": "code",
   "execution_count": null,
   "metadata": {
    "collapsed": false
   },
   "outputs": [],
   "source": [
    "plt.clf()\n",
    "fig = plt.figure(facecolor='black')\n",
    "ax = fig.add_subplot(111, frame_on=False)\n",
    "\n",
    "colors = ['red', 'white', 'blue', 'yellow', 'green', 'cyan', 'purple']\n",
    "# from random import shuffle\n",
    "# colors = list(mpl_colors.cnames.keys())\n",
    "# shuffle(colors)\n",
    "\n",
    "m.scatter(\n",
    "    [geom.x for geom in list(station_points)],\n",
    "    [geom.y for geom in list(station_points)],\n",
    "    5, marker='.', lw=.25,\n",
    "    facecolor='#33ccff', edgecolor='w',\n",
    "    alpha=0.9, antialiased=True, zorder=3)\n",
    "\n",
    "centroids = np.array([[0.0] * len(routes_coord_cur_flat[0])] * len(kmeans.cluster_centers_))\n",
    "\n",
    "routes_per_cluster = [0] * len(kmeans.cluster_centers_)\n",
    "for j, pathcoords in enumerate(routes_coord_cur_flat[:100]):\n",
    "    centroids[idxs[j]] += pathcoords\n",
    "    routes_per_cluster[idxs[j]] += 1\n",
    "\n",
    "# centroids = list(filter(lambda x: len(x) >= 1, centroids))\n",
    "    \n",
    "centroids = \\\n",
    "    [centroid / (routes_per_cluster[i] if routes_per_cluster[i] != 0 else -1) \n",
    "     for i, centroid in enumerate(centroids)]\n",
    "\n",
    "for j in range(len(centroids)):\n",
    "    centroid = centroids[j]\n",
    "    for i in range(0, len(centroid) - 4, 2):\n",
    "        point1, point2 = [centroid[i], centroid[i + 1]], [centroid[i + 2], centroid[i + 3]]\n",
    "        map_point1 = Point(m(point1[0], point1[1]))\n",
    "        map_point2 = Point(m(point2[0], point2[1]))\n",
    "        xs = [map_point1.x, map_point2.x]\n",
    "        ys = [map_point1.y, map_point2.y]\n",
    "        plt.plot(xs, ys, linestyle='-', color=colors[j % len(colors)])\n",
    "\n",
    "print('Plotting done')\n",
    "\n",
    "# ax.add_collection(PatchCollection(df_map['patches'].values, match_original=True))\n",
    "\n",
    "fig.set_size_inches(img_width_inches, img_height_inches)\n",
    "plt.savefig(\n",
    "    \"data_maps_output/routes {}.png\".format(int(time.time())),\n",
    "    dpi=200, alpha=True, facecolor=fig.get_facecolor())"
   ]
  },
  {
   "cell_type": "code",
   "execution_count": null,
   "metadata": {
    "collapsed": true
   },
   "outputs": [],
   "source": []
  }
 ],
 "metadata": {
  "kernelspec": {
   "display_name": "Python 3",
   "language": "python",
   "name": "python3"
  },
  "language_info": {
   "codemirror_mode": {
    "name": "ipython",
    "version": 3
   },
   "file_extension": ".py",
   "mimetype": "text/x-python",
   "name": "python",
   "nbconvert_exporter": "python",
   "pygments_lexer": "ipython3",
   "version": "3.5.1"
  }
 },
 "nbformat": 4,
 "nbformat_minor": 0
}
