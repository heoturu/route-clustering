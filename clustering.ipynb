{
 "cells": [
  {
   "cell_type": "code",
   "execution_count": null,
   "metadata": {
    "collapsed": true
   },
   "outputs": [],
   "source": [
    "%matplotlib inline"
   ]
  },
  {
   "cell_type": "code",
   "execution_count": null,
   "metadata": {
    "collapsed": false
   },
   "outputs": [],
   "source": [
    "import os\n",
    "import pickle\n",
    "from math import floor\n",
    "from random import shuffle\n",
    "from statistics import variance\n",
    "import math\n",
    "\n",
    "from itertools import chain\n",
    "from itertools import product\n",
    "from itertools import groupby\n",
    "from operator import itemgetter\n",
    "\n",
    "import pandas as pd\n",
    "import numpy as np\n",
    "\n",
    "import fiona\n",
    "import matplotlib.pyplot as plt\n",
    "from matplotlib.collections import PatchCollection\n",
    "from mpl_toolkits.basemap import Basemap\n",
    "from shapely.geometry import Point, Polygon, MultiPoint\n",
    "from descartes import PolygonPatch\n",
    "\n",
    "import matplotlib.colors as mpl_colors\n",
    "from random import randint\n",
    "import time\n",
    "\n",
    "from geopy.distance import vincenty\n",
    "\n",
    "from sklearn.cluster import MiniBatchKMeans\n",
    "from sklearn.cluster import KMeans\n",
    "from sklearn.cluster import SpectralClustering\n",
    "from sklearn.cluster import DBSCAN\n",
    "from sklearn.cluster import AgglomerativeClustering\n",
    "from sklearn.cluster import Birch\n",
    "from sklearn.metrics import silhouette_score"
   ]
  },
  {
   "cell_type": "markdown",
   "metadata": {},
   "source": [
    "# Creating environment"
   ]
  },
  {
   "cell_type": "code",
   "execution_count": null,
   "metadata": {
    "collapsed": true
   },
   "outputs": [],
   "source": [
    "img_width_inches = 7.22 * 3\n",
    "img_height_inches = 5.25 * 3"
   ]
  },
  {
   "cell_type": "code",
   "execution_count": null,
   "metadata": {
    "collapsed": true
   },
   "outputs": [],
   "source": [
    "with open('./data_routes_pickle/cell_id_lac_info', 'rb') as f:\n",
    "    station_dict = pickle.load(f)"
   ]
  },
  {
   "cell_type": "markdown",
   "metadata": {},
   "source": [
    "### Reading map (really long operation)"
   ]
  },
  {
   "cell_type": "code",
   "execution_count": null,
   "metadata": {
    "collapsed": true
   },
   "outputs": [],
   "source": [
    "m.readshapefile(\n",
    "    'data_maps_input/spb',\n",
    "    'city_polygons',\n",
    "    drawbounds=False)\n",
    "\n",
    "df_map = pd.DataFrame({\n",
    "    'poly': [Polygon(polygon_coords) for polygon_coords in m.city_polygons]})"
   ]
  },
  {
   "cell_type": "code",
   "execution_count": null,
   "metadata": {
    "collapsed": true
   },
   "outputs": [],
   "source": [
    "df_map['patches'] = df_map['poly'].map(lambda x: PolygonPatch(\n",
    "    x,\n",
    "    fc='black',\n",
    "    ec='grey', lw=0.55, alpha=0.6,\n",
    "    zorder=2))"
   ]
  },
  {
   "cell_type": "markdown",
   "metadata": {},
   "source": [
    "### Creating basemap, setting up scale etc."
   ]
  },
  {
   "cell_type": "code",
   "execution_count": null,
   "metadata": {
    "collapsed": true
   },
   "outputs": [],
   "source": [
    "shp = fiona.open('data_maps_input/spb.shp')\n",
    "bds = shp.bounds\n",
    "shp.close()\n",
    "\n",
    "ll = bds[0], bds[1]\n",
    "ur = bds[2], bds[3]\n",
    "coords = list(chain(ll, ur))\n",
    "w, h = coords[2] - coords[0], coords[3] - coords[1]\n",
    "zoom_out_frac = -0.3\n",
    "\n",
    "m = Basemap(\n",
    "    projection='tmerc',\n",
    "    lon_0=30.5,\n",
    "    lat_0=60.,\n",
    "    ellps='WGS84',\n",
    "    llcrnrlon=coords[0] + (coords[2] - coords[0]) * 0.06 - zoom_out_frac * w,\n",
    "    llcrnrlat=coords[1] - zoom_out_frac * h,\n",
    "    urcrnrlon=coords[2] + (coords[2] - coords[0]) * 0.06 + zoom_out_frac * w,\n",
    "    urcrnrlat=coords[3] + zoom_out_frac * h,\n",
    "    lat_ts=0,\n",
    "    resolution='i',\n",
    "    suppress_ticks=True)"
   ]
  },
  {
   "cell_type": "code",
   "execution_count": null,
   "metadata": {
    "collapsed": true
   },
   "outputs": [],
   "source": [
    "map_points = pd.Series(\n",
    "    [Point(m(mapped_x, mapped_y)) for mapped_x, mapped_y in \n",
    "     [(station_dict[i][0], station_dict[i][1]) for i in station_dict]])\n",
    "\n",
    "station_points = MultiPoint(list(map_points.values))"
   ]
  },
  {
   "cell_type": "markdown",
   "metadata": {},
   "source": [
    "# Clustering experiements"
   ]
  },
  {
   "cell_type": "code",
   "execution_count": null,
   "metadata": {
    "collapsed": false
   },
   "outputs": [],
   "source": [
    "with open('data_routes_pickle/routes_coord_cur', 'rb') as f:\n",
    "    routes_coord_cur = pickle.load(f)\n",
    "\n",
    "with open('data_routes_pickle/sim_matrix_sim_segments_1_mod23_cumul', 'rb') as f:\n",
    "    sim_matrix = np.array(pickle.load(f))"
   ]
  },
  {
   "cell_type": "code",
   "execution_count": null,
   "metadata": {
    "collapsed": false
   },
   "outputs": [],
   "source": [
    "print(len(sim_matrix))\n",
    "print(len(routes_coord_cur))\n",
    "# print(cluster_count_cur)"
   ]
  },
  {
   "cell_type": "code",
   "execution_count": null,
   "metadata": {
    "collapsed": false
   },
   "outputs": [],
   "source": [
    "sim_matrix"
   ]
  },
  {
   "cell_type": "code",
   "execution_count": null,
   "metadata": {
    "collapsed": false
   },
   "outputs": [],
   "source": [
    "print(np.unravel_index(np.argmax(sim_matrix), sim_matrix.shape))\n",
    "print(np.amax(sim_matrix))"
   ]
  },
  {
   "cell_type": "markdown",
   "metadata": {},
   "source": [
    "### Top most similar routes via sim_matrix"
   ]
  },
  {
   "cell_type": "code",
   "execution_count": null,
   "metadata": {
    "collapsed": false
   },
   "outputs": [],
   "source": [
    "max_points_count = 10\n",
    "max_idxs_raveled = (-sim_matrix).argsort(axis=None)[:max_points_count]\n",
    "max_idxs_unravled = np.unravel_index(max_idxs_raveled, sim_matrix.shape)\n",
    "max_sim_route_idxs = np.array(max_idxs_unravled).T\n",
    "max_sim_route_idxs"
   ]
  },
  {
   "cell_type": "markdown",
   "metadata": {},
   "source": [
    "### Distance matrix from similarity one"
   ]
  },
  {
   "cell_type": "code",
   "execution_count": null,
   "metadata": {
    "collapsed": false
   },
   "outputs": [],
   "source": [
    "dist_matrix = [[0 for x in range(len(sim_matrix))] for y in range(len(sim_matrix))] \n",
    "for i in range(len(sim_matrix)):\n",
    "    for j in range(len(sim_matrix[0])):\n",
    "        if i != j:\n",
    "            dist_matrix[i][j] = 135 - sim_matrix[i][j]"
   ]
  },
  {
   "cell_type": "markdown",
   "metadata": {},
   "source": [
    "### Flattening routes (e.g. for point-based clustering methods)"
   ]
  },
  {
   "cell_type": "code",
   "execution_count": null,
   "metadata": {
    "collapsed": false
   },
   "outputs": [],
   "source": [
    "routes_coord_cur_flat = [[num for coords in route for num in coords] for route in routes_coord_cur]"
   ]
  },
  {
   "cell_type": "markdown",
   "metadata": {},
   "source": [
    "### Clustering"
   ]
  },
  {
   "cell_type": "code",
   "execution_count": null,
   "metadata": {
    "collapsed": true
   },
   "outputs": [],
   "source": [
    "cluster_count_cur = 19\n",
    "\n",
    "with open('data_routes_pickle/dist_matrix', 'wb') as f:\n",
    "    pickle.dump(dist_matrix, f)\n",
    "\n",
    "with open('data_routes_pickle/cluster_count_cur', 'wb') as f:\n",
    "    pickle.dump(cluster_count_cur, f)\n",
    "\n",
    "with open('data_routes_pickle/idxs', 'wb') as f:\n",
    "    pickle.dump(idxs, f)"
   ]
  },
  {
   "cell_type": "code",
   "execution_count": null,
   "metadata": {
    "collapsed": false
   },
   "outputs": [],
   "source": [
    "# algo = KMeans(n_clusters=cluster_count, random_state=42)\n",
    "# algo = AgglomerativeClustering(n_clusters=cluster_count_cur)\n",
    "# algo = DBSCAN(eps=110, min_samples=2, metric='precomputed')\n",
    "algo = Birch(threshold=124, branching_factor=6, n_clusters=21)\n",
    "\n",
    "idxs = algo.fit_predict(dist_matrix)\n",
    "\n",
    "for idx in idxs:\n",
    "    print(idx, end=' ')\n",
    "\n",
    "# plt.hist(idxs, range(int(len(idxs) / 2)))\n",
    "plt.hist(idxs, range(0, cluster_count + 1))\n",
    "plt.show()\n",
    "\n",
    "route_idxs_per_cluster = [[] for i in range(21)]\n",
    "for r_i, c_i in enumerate(idxs):\n",
    "    route_idxs_per_cluster[c_i].append(r_i)\n",
    "\n",
    "print(max([len(i) for i in route_idxs_per_cluster]))\n",
    "\n",
    "# for route_idx, cluster_idx in enumerate(idxs):\n",
    "#     if cluster_idx == 1:\n",
    "#         print(route_idx, end=' ')"
   ]
  },
  {
   "cell_type": "code",
   "execution_count": null,
   "metadata": {
    "collapsed": true
   },
   "outputs": [],
   "source": [
    "var_min = math.inf\n",
    "state_var_min = -1\n",
    "\n",
    "for cluster_count in range(9, 10):\n",
    "#     kmeans = KMeans(n_clusters=cluster_count, random_state=42)\n",
    "    kmeans = AgglomerativeClustering(n_clusters=cluster_count)\n",
    "    idxs = kmeans.fit_predict(dist_matrix)\n",
    "    \n",
    "    var_cur = variance(idxs)\n",
    "    print(cluster_count, var_cur)\n",
    "    if var_min > var_cur:\n",
    "        var_min = var_cur\n",
    "    \n",
    "    plt.hist(idxs, range(0, cluster_count + 1))\n",
    "    plt.show()\n",
    "\n",
    "# var_min"
   ]
  },
  {
   "cell_type": "code",
   "execution_count": null,
   "metadata": {
    "collapsed": false
   },
   "outputs": [],
   "source": [
    "# BIRCH params bf\n",
    "\n",
    "var_min = math.inf\n",
    "\n",
    "min_max_clust_count = 500\n",
    "min_max_clust_count_br_factor = -1\n",
    "min_max_clust_count_threshold = -1\n",
    "min_max_clust_count_cluster_count = -1\n",
    "for cluster_count in range(15, 16):\n",
    "    for br_factor in range(6, 300):\n",
    "        for threshold in range(3, 130):\n",
    "        #     algo = KMeans(n_clusters=cluster_count, random_state=42)\n",
    "        #     algo = AgglomerativeClustering(n_clusters=cluster_count)\n",
    "            algo = Birch(threshold=threshold, branching_factor=br_factor, n_clusters=cluster_count)\n",
    "            idxs = algo.fit_predict(dist_matrix)\n",
    "\n",
    "            route_idxs_per_cluster = [[] for i in range(cluster_count)]\n",
    "            for r_i, c_i in enumerate(idxs):\n",
    "                route_idxs_per_cluster[c_i].append(r_i)\n",
    "\n",
    "            max_clust_count_cur = max([len(i) for i in route_idxs_per_cluster])\n",
    "\n",
    "            if max_clust_count_cur < 70:\n",
    "                if max_clust_count_cur < min_max_clust_count:\n",
    "                    min_max_clust_count = max_clust_count_cur\n",
    "                min_max_clust_count_br_factor = br_factor\n",
    "                min_max_clust_count_threshold = threshold\n",
    "                min_max_clust_count_cluster_count = cluster_count\n",
    "                print(min_max_clust_count,\n",
    "                      min_max_clust_count_cluster_count,\n",
    "                      min_max_clust_count_threshold,\n",
    "                      min_max_clust_count_br_factor)\n",
    "        print('Thresh done')\n"
   ]
  },
  {
   "cell_type": "markdown",
   "metadata": {},
   "source": [
    "### Clustering results plotting"
   ]
  },
  {
   "cell_type": "code",
   "execution_count": null,
   "metadata": {
    "collapsed": false
   },
   "outputs": [],
   "source": [
    "fig = plt.figure(facecolor='black')\n",
    "ax = fig.add_subplot(111, frame_on=False)\n",
    "\n",
    "m.scatter([geom.x for geom in list(station_points)], [geom.y for geom in list(station_points)],\n",
    "          5, marker='.', lw=.25, facecolor='#33ccff', edgecolor='w', alpha=0.9, antialiased=True, zorder=3)\n",
    "\n",
    "colors = list(mpl_colors.cnames.keys())\n",
    "shuffle(colors)\n",
    "# colors = ['red', 'white', 'blue', 'yellow', 'green', 'cyan', 'purple']\n",
    "\n",
    "for j in range(len(routes_coord_cur[:400])):\n",
    "    route_coords = routes_coord_cur[j]\n",
    "    for i in range(0, len(route_coords) - 1):\n",
    "#         if idxs[j] == 6:\n",
    "            point1, point2 = route_coords[i], route_coords[i + 1]\n",
    "            map_point1, map_point2 = Point(m(point1[0], point1[1])), Point(m(point2[0], point2[1]))\n",
    "            xs, ys = [map_point1.x, map_point2.x], [map_point1.y, map_point2.y]\n",
    "            alpha = (i + 1) / len(route_coords)\n",
    "\n",
    "#             m.scatter(xs, ys, 20, marker='.', lw=.0,\n",
    "#                       facecolor='red', edgecolor='w', alpha=0.9, antialiased=True, zorder=5)\n",
    "\n",
    "#             plt.plot(xs, ys, linestyle='-', color=colors[idxs[j] % len(colors)], alpha=alpha + 0.2)\n",
    "#             plt.plot(xs, ys, linestyle='-', color=colors[j % len(colors)], alpha=0.9)\n",
    "\n",
    "#             max_sim_route_idx = max_sim_route_idxs[0]\n",
    "            if j == 171: # max_sim_route_idx[0]:\n",
    "                plt.plot(xs, ys, linestyle='-', color='red',  alpha=1)\n",
    "            elif j == 350: # max_sim_route_idx[1]:\n",
    "                plt.plot(xs, ys, linestyle='-', color='blue', alpha=1)\n",
    "\n",
    "print('Plotting done')\n",
    "\n",
    "# ax.add_collection(PatchCollection(df_map['patches'].values, match_original=True))\n",
    "\n",
    "# fig.set_size_inches(img_width_inches, img_height_inches)\n",
    "# plt.savefig(\n",
    "#     \"./data_maps_output/routes {}.png\".format(int(time.time())),\n",
    "#     dpi=200, alpha=True, facecolor=fig.get_facecolor())"
   ]
  },
  {
   "cell_type": "markdown",
   "metadata": {},
   "source": [
    "### Multiple clusters resulting plotting"
   ]
  },
  {
   "cell_type": "code",
   "execution_count": null,
   "metadata": {
    "collapsed": false
   },
   "outputs": [],
   "source": [
    "for cluster_count in range(21, 22):\n",
    "#     algo = KMeans(n_clusters=cluster_count, random_state=42)\n",
    "#     algo = AgglomerativeClustering(n_clusters=cluster_count)\n",
    "    algo = Birch(threshold=70, branching_factor=70, n_clusters=cluster_count)\n",
    "    idxs = algo.fit_predict(dist_matrix)\n",
    "\n",
    "    cur_dir_path = './data_maps_output/routes {}_{}'.format(int(time.time()), cluster_count)\n",
    "    cur_dir = os.makedirs(cur_dir_path)\n",
    "\n",
    "    for cluster_idx in range(cluster_count):\n",
    "        fig = plt.figure(facecolor='black')\n",
    "        ax = fig.add_subplot(111, frame_on=False)\n",
    "\n",
    "        m.scatter([geom.x for geom in list(station_points)], [geom.y for geom in list(station_points)],\n",
    "                  5, marker='.', lw=.25, facecolor='#33ccff', edgecolor='w', alpha=0.9, antialiased=True, zorder=3)\n",
    "\n",
    "        colors = list(mpl_colors.cnames.keys())\n",
    "        shuffle(colors)\n",
    "#         colors = ['red', 'white', 'blue', 'yellow', 'green', 'cyan', 'purple']\n",
    "\n",
    "        for j in range(len(routes_coord_cur[:400])):\n",
    "            route_coords = routes_coord_cur[j]\n",
    "            for i in range(0, len(route_coords) - 1):\n",
    "                if idxs[j] == cluster_idx:\n",
    "                    point1, point2 = route_coords[i], route_coords[i + 1]\n",
    "                    map_point1, map_point2 = Point(m(point1[0], point1[1])), Point(m(point2[0], point2[1]))\n",
    "                    xs, ys = [map_point1.x, map_point2.x], [map_point1.y, map_point2.y]\n",
    "                    alpha = (i + 1) / len(route_coords)\n",
    "\n",
    "#                     plt.plot(xs, ys, linestyle='-', color=colors[idxs[j] % len(colors)], alpha=alpha)\n",
    "                    plt.plot(xs, ys,linestyle='-', color=colors[j % len(colors)], alpha=1)\n",
    "\n",
    "        print('Plotting done')\n",
    "\n",
    "        # ax.add_collection(PatchCollection(df_map['patches'].values, match_original=True))\n",
    "\n",
    "        fig.set_size_inches(img_width_inches, img_height_inches)\n",
    "        plt.savefig(cur_dir_path + \"/routes {}.png\".format(int(time.time())),\n",
    "                    dpi=200, alpha=True, facecolor=fig.get_facecolor())"
   ]
  },
  {
   "cell_type": "markdown",
   "metadata": {},
   "source": [
    "### Cluster centroids plotting"
   ]
  },
  {
   "cell_type": "code",
   "execution_count": null,
   "metadata": {
    "collapsed": false
   },
   "outputs": [],
   "source": [
    "fig = plt.figure(facecolor='black')\n",
    "ax = fig.add_subplot(111, frame_on=False)\n",
    "\n",
    "colors = ['red', 'white', 'blue', 'yellow', 'green', 'cyan', 'purple']\n",
    "# colors = list(mpl_colors.cnames.keys())\n",
    "# shuffle(colors)\n",
    "\n",
    "m.scatter([geom.x for geom in list(station_points)], [geom.y for geom in list(station_points)],\n",
    "          5, marker='.', lw=.25, facecolor='#33ccff', edgecolor='w', alpha=0.9, antialiased=True, zorder=3)\n",
    "\n",
    "# Work for centroids of the same length only\n",
    "centroids = np.array([[0.0] * len(routes_coord_cur_flat[0])] * len(algo.cluster_centers_))\n",
    "routes_per_cluster = [0] * len(algo.cluster_centers_)\n",
    "for j, route_coords in enumerate(routes_coord_cur_flat):\n",
    "    centroids[idxs[j]] += route_coords\n",
    "    routes_per_cluster[idxs[j]] += 1\n",
    "    \n",
    "centroids = \\\n",
    "    [centroid / (routes_per_cluster[i] if routes_per_cluster[i] != 0 else -1) \n",
    "     for i, centroid in enumerate(centroids)]\n",
    "\n",
    "for j in range(len(centroids)):\n",
    "    centroid = centroids[j]\n",
    "    for i in range(0, len(centroid) - 4, 2):\n",
    "        point1, point2 = [centroid[i], centroid[i + 1]], [centroid[i + 2], centroid[i + 3]]\n",
    "        map_point1 = Point(m(point1[0], point1[1]))\n",
    "        map_point2 = Point(m(point2[0], point2[1]))\n",
    "        xs = [map_point1.x, map_point2.x]\n",
    "        ys = [map_point1.y, map_point2.y]\n",
    "        plt.plot(xs, ys, linestyle='-', color=colors[j % len(colors)])\n",
    "\n",
    "print('Plotting done')\n",
    "\n",
    "# ax.add_collection(PatchCollection(df_map['patches'].values, match_original=True))\n",
    "\n",
    "fig.set_size_inches(img_width_inches, img_height_inches)\n",
    "plt.savefig(\"data_maps_output/routes {}.png\".format(int(time.time())),\n",
    "            dpi=200, alpha=True, facecolor=fig.get_facecolor())"
   ]
  },
  {
   "cell_type": "code",
   "execution_count": null,
   "metadata": {
    "collapsed": true
   },
   "outputs": [],
   "source": []
  }
 ],
 "metadata": {
  "kernelspec": {
   "display_name": "Python 3",
   "language": "python",
   "name": "python3"
  },
  "language_info": {
   "codemirror_mode": {
    "name": "ipython",
    "version": 3
   },
   "file_extension": ".py",
   "mimetype": "text/x-python",
   "name": "python",
   "nbconvert_exporter": "python",
   "pygments_lexer": "ipython3",
   "version": "3.5.1"
  }
 },
 "nbformat": 4,
 "nbformat_minor": 0
}
