{
 "cells": [
  {
   "cell_type": "code",
   "execution_count": 1,
   "metadata": {
    "collapsed": true
   },
   "outputs": [],
   "source": [
    "%matplotlib inline"
   ]
  },
  {
   "cell_type": "code",
   "execution_count": 2,
   "metadata": {
    "collapsed": true
   },
   "outputs": [],
   "source": [
    "from lxml import etree"
   ]
  },
  {
   "cell_type": "code",
   "execution_count": 3,
   "metadata": {
    "collapsed": true
   },
   "outputs": [],
   "source": [
    "import pandas as pd\n",
    "import numpy as np\n",
    "import matplotlib.pyplot as plt"
   ]
  },
  {
   "cell_type": "code",
   "execution_count": 4,
   "metadata": {
    "collapsed": true
   },
   "outputs": [],
   "source": [
    "import matplotlib.cm as cm\n",
    "from matplotlib.colors import Normalize\n",
    "from matplotlib.collections import PatchCollection"
   ]
  },
  {
   "cell_type": "code",
   "execution_count": 5,
   "metadata": {
    "collapsed": false
   },
   "outputs": [],
   "source": [
    "from mpl_toolkits.basemap import Basemap\n",
    "from shapely.geometry import Point, Polygon, MultiPoint, MultiPolygon\n",
    "from shapely.prepared import prep\n",
    "from pysal.esda.mapclassify import Natural_Breaks as nb"
   ]
  },
  {
   "cell_type": "code",
   "execution_count": 6,
   "metadata": {
    "collapsed": false
   },
   "outputs": [],
   "source": [
    "from descartes import PolygonPatch\n",
    "import fiona\n",
    "from itertools import chain"
   ]
  },
  {
   "cell_type": "code",
   "execution_count": 7,
   "metadata": {
    "collapsed": false
   },
   "outputs": [],
   "source": [
    "shp = fiona.open('data/new.shp')\n",
    "bds = shp.bounds\n",
    "shp.close()\n",
    "extra = 0.333\n",
    "ll = (bds[0], bds[1])\n",
    "ur = (bds[2], bds[3])\n",
    "coords = list(chain(ll, ur))\n",
    "w, h = (coords[2] - coords[0]), coords[3] - coords[1]"
   ]
  },
  {
   "cell_type": "code",
   "execution_count": 8,
   "metadata": {
    "collapsed": false
   },
   "outputs": [
    {
     "data": {
      "text/plain": [
       "[29.1680027, 59.5560006, 31.1729986, 60.3449994]"
      ]
     },
     "execution_count": 8,
     "metadata": {},
     "output_type": "execute_result"
    }
   ],
   "source": [
    "coords"
   ]
  },
  {
   "cell_type": "code",
   "execution_count": 9,
   "metadata": {
    "collapsed": false
   },
   "outputs": [],
   "source": [
    "m = Basemap(\n",
    "    projection='tmerc',\n",
    "    lon_0=30.5,\n",
    "    lat_0=60.,\n",
    "    ellps='WGS84',\n",
    "    llcrnrlon=coords[0] + extra * w,\n",
    "    llcrnrlat=coords[1] + extra * h,\n",
    "    urcrnrlon=coords[2] - extra * w,\n",
    "    urcrnrlat=coords[3] - extra * h,\n",
    "    lat_ts=0,\n",
    "    resolution='i',\n",
    "    suppress_ticks=True)"
   ]
  },
  {
   "cell_type": "code",
   "execution_count": 10,
   "metadata": {
    "collapsed": false
   },
   "outputs": [
    {
     "data": {
      "text/plain": [
       "(254753,\n",
       " 5,\n",
       " [29.1680027, 59.5560006, 0.0, 0.0],\n",
       " [31.1729986, 60.3449994, 0.0, 0.0])"
      ]
     },
     "execution_count": 10,
     "metadata": {},
     "output_type": "execute_result"
    }
   ],
   "source": [
    "m.readshapefile(\n",
    "    'data/new',\n",
    "    'london',\n",
    "    drawbounds=False)"
   ]
  },
  {
   "cell_type": "code",
   "execution_count": 11,
   "metadata": {
    "collapsed": false
   },
   "outputs": [],
   "source": [
    "# set up a map dataframe\n",
    "df_map = pd.DataFrame({\n",
    "    'poly': [Polygon(ward_coords) for ward_coords in m.london]})\n",
    "df_map['area_m'] = df_map['poly'].map(lambda x: x.area)\n",
    "df_map['area_km'] = df_map['area_m'] / 100000"
   ]
  },
  {
   "cell_type": "code",
   "execution_count": 12,
   "metadata": {
    "collapsed": false
   },
   "outputs": [],
   "source": [
    "# draw ward patches from polygons\n",
    "df_map['patches'] = df_map['poly'].map(lambda x: PolygonPatch(\n",
    "    x,\n",
    "    fc='#555555',\n",
    "    ec='#787878', lw=0.25, alpha=.9,\n",
    "    zorder=4))"
   ]
  },
  {
   "cell_type": "code",
   "execution_count": 80,
   "metadata": {
    "collapsed": true
   },
   "outputs": [],
   "source": [
    "df = pd.read_csv('petrovsky_11.csv', nrows=50000)\n",
    "\n",
    "report_df = pd.read_csv('report.csv')\n",
    "\n",
    "\n",
    "def index_of_min(values):\n",
    "    return min(range(len(values)), key=values.__getitem__)\n",
    "\n",
    "\n",
    "def get_time(x):\n",
    "    return datetime.strptime(x, \"%d.%m.%Y %H.%M.%S\")\n",
    "\n",
    "\n",
    "from_time = get_time(\"24.11.2015 11.00.00\")\n",
    "to_time = get_time(\"24.11.2015 15.00.00\")\n",
    "\n",
    "\n",
    "def create_aligned_path(data, start_time, end_time, interval):\n",
    "    lacs, times = data[\"cellid\"], data[\"time\"]\n",
    "    step = timedelta(minutes=interval)\n",
    "    current_time = start_time\n",
    "    acc = []\n",
    "    while current_time <= end_time:\n",
    "        time_differences = [abs(current_time - get_time(some_time)) for some_time in times]\n",
    "        index = index_of_min(time_differences)\n",
    "        acc.append(lacs[index])\n",
    "        current_time += step\n",
    "    return acc\n",
    "\n",
    "\n",
    "def between_time(x):\n",
    "    return to_time > get_time(x) > from_time\n",
    "\n",
    "# Choose only events in some time period\n",
    "# Group people by code - unique number for every user\n",
    "# Collect all LACs (base stations) for every user in a list\n",
    "\n",
    "df1 = df[df['time'].apply(between_time)]\n",
    "df2 = df1.dropna(subset=['cellid'])\n",
    "\n",
    "lacs = df2.groupby('subsid')['cellid'].apply(lambda x: x.tolist())\n",
    "# The same with all times for every LAC\n",
    "times = df2.groupby('subsid')['time'].apply(lambda x: x.tolist())\n",
    "\n",
    "# Join 2 series to dataframe on Code\n",
    "data = pd.concat([lacs, times], axis=1).reset_index()\n",
    "\n",
    "# Add alignded LACs sequences\n",
    "data['path'] = data.apply(lambda x: create_aligned_path(x, from_time, to_time, 10), axis=1)\n",
    "\n",
    "report_df.drop_duplicates(subset=['Cell ID'], inplace=True)\n",
    "\n",
    "report_dict = report_df.set_index('Cell ID').T.to_dict('list')"
   ]
  },
  {
   "cell_type": "code",
   "execution_count": 87,
   "metadata": {
    "collapsed": false
   },
   "outputs": [],
   "source": [
    "map_points = pd.Series(\n",
    "    [Point(m(mapped_x, mapped_y)) for mapped_x, mapped_y in [(report_dict[i][1], report_dict[i][2]) for i in report_dict]])\n",
    "plaque_points = MultiPoint(list(map_points.values))"
   ]
  },
  {
   "cell_type": "code",
   "execution_count": 88,
   "metadata": {
    "collapsed": false
   },
   "outputs": [],
   "source": [
    "listt = list(plaque_points)"
   ]
  },
  {
   "cell_type": "code",
   "execution_count": 89,
   "metadata": {
    "collapsed": false
   },
   "outputs": [
    {
     "data": {
      "text/plain": [
       "34832"
      ]
     },
     "execution_count": 89,
     "metadata": {},
     "output_type": "execute_result"
    }
   ],
   "source": [
    "len(listt)"
   ]
  },
  {
   "cell_type": "code",
   "execution_count": null,
   "metadata": {
    "collapsed": false
   },
   "outputs": [],
   "source": [
    "import matplotlib.colors as colors\n",
    "from random import randint\n",
    "\n",
    "plt.clf()\n",
    "fig = plt.figure()\n",
    "ax = fig.add_subplot(111, axisbg='w', frame_on=False)\n",
    "\n",
    "# we don't need to pass points to m() because we calculated using map_points and shapefile polygons\n",
    "dev = m.scatter(\n",
    "    [geom.x for geom in list(plaque_points)],\n",
    "    [geom.y for geom in list(plaque_points)],\n",
    "    5, marker='.', lw=.25,\n",
    "    facecolor='#33ccff', edgecolor='w',\n",
    "    alpha=0.9, antialiased=True,\n",
    "    label='Blue Plaque Locations', zorder=3)\n",
    "\n",
    "colors = list(colors.cnames.keys())\n",
    "cur_color = colors[0]\n",
    "paths = list(filter(lambda x: len(list(set(x))) >= 3, data['path']))[50:75]\n",
    "for i in range(len(paths)):\n",
    "    path = paths[i]\n",
    "    cur_color = colors[i% len(colors)]\n",
    "    pathcoords = [(report_dict[x][1], report_dict[x][2]) for x in path]\n",
    "    for i in range(len(pathcoords) - 1):\n",
    "        point1, point2 = pathcoords[i], pathcoords[i + 1]\n",
    "        map_point1 = Point(m(point1[0], point1[1]))\n",
    "        map_point2 = Point(m(point2[0], point2[1]))\n",
    "        xs = [map_point1.x, map_point2.x]\n",
    "        ys = [map_point1.y, map_point2.y]\n",
    "        plt.plot(xs, ys, linestyle='-', color=cur_color)\n",
    "\n",
    "print('Plotting done')\n",
    "\n",
    "# plot boroughs by adding the PatchCollection to the axes instance\n",
    "ax.add_collection(PatchCollection(df_map['patches'].values, match_original=True))\n",
    "\n",
    "fig.set_size_inches(7.22 * 3, 5.25 * 3)\n",
    "plt.savefig('data/london_plaques.png', dpi=400, alpha=True)"
   ]
  },
  {
   "cell_type": "code",
   "execution_count": null,
   "metadata": {
    "collapsed": false
   },
   "outputs": [],
   "source": []
  }
 ],
 "metadata": {
  "kernelspec": {
   "display_name": "Python 3",
   "language": "python",
   "name": "python3"
  },
  "language_info": {
   "codemirror_mode": {
    "name": "ipython",
    "version": 3
   },
   "file_extension": ".py",
   "mimetype": "text/x-python",
   "name": "python",
   "nbconvert_exporter": "python",
   "pygments_lexer": "ipython3",
   "version": "3.5.1"
  }
 },
 "nbformat": 4,
 "nbformat_minor": 0
}
