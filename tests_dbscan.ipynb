{
 "cells": [
  {
   "cell_type": "code",
   "execution_count": 4,
   "metadata": {
    "collapsed": true
   },
   "outputs": [],
   "source": [
    "%matplotlib inline"
   ]
  },
  {
   "cell_type": "code",
   "execution_count": 5,
   "metadata": {
    "collapsed": true
   },
   "outputs": [],
   "source": [
    "import pandas as pd\n",
    "import numpy as np\n",
    "import pickle\n",
    "\n",
    "from itertools import chain\n",
    "from itertools import product\n",
    "from itertools import groupby\n",
    "from operator import itemgetter\n",
    "\n",
    "import fiona\n",
    "import matplotlib.pyplot as plt\n",
    "from matplotlib.collections import PatchCollection\n",
    "from mpl_toolkits.basemap import Basemap\n",
    "from shapely.geometry import Point, Polygon, MultiPoint\n",
    "from descartes import PolygonPatch\n",
    "\n",
    "import matplotlib.colors as mpl_colors\n",
    "from random import randint\n",
    "import time\n",
    "\n",
    "from sklearn.cluster import MiniBatchKMeans\n",
    "from sklearn.cluster import KMeans\n",
    "from sklearn.cluster import SpectralClustering\n",
    "from sklearn.cluster import DBSCAN\n",
    "from sklearn.metrics import silhouette_score"
   ]
  },
  {
   "cell_type": "code",
   "execution_count": null,
   "metadata": {
    "collapsed": false
   },
   "outputs": [],
   "source": [
    "epsilon_range = np.arange(0.25, 1.55, 0.25) # y\n",
    "min_sample_range = np.arange(1, 10, 1) # x\n",
    "quality_matrix = np.zeros((len(epsilon_range), len(min_sample_range)))\n",
    "cluster_count_matrix = np.zeros((len(epsilon_range), len(min_sample_range)))\n",
    "\n",
    "# clustering_algorithm = DBSCAN(eps=0.5, min_samples=1, metric='precomputed')\n",
    "# labels = clustering_algorithm.fit_predict(distance_matrix)\n",
    "# sil = silhouette_score(np.array(coord_list[80:150]), labels)\n",
    "# print(labels)\n",
    "# print(sil)\n",
    "\n",
    "for min_sample_index, min_sample_size in enumerate(min_sample_range):\n",
    "    for eps_index, eps in enumerate(epsilon_range):\n",
    "        clustering_algorithm = DBSCAN(eps=eps, min_samples=min_sample_size, metric='precomputed')\n",
    "#         clustering_algorithm = KMeans(n_clusters=min_sample_size)\n",
    "        labels = clustering_algorithm.fit_predict(distance_matrix)\n",
    "        cluster_count_matrix[eps_index][min_sample_index] = len(set(clustering_algorithm.labels_))\n",
    "        if 1 < len(set(clustering_algorithm.labels_)) < number_of_paths:\n",
    "            quality_matrix[eps_index][min_sample_index] = silhouette_score(np.array(coord_list[80:150]), labels)\n",
    "\n",
    "# Plotting\n",
    "plt.figure(figsize=(15, 5))\n",
    "plt.imshow(quality_matrix, interpolation='none', aspect=\"auto\",\n",
    "           extent=[np.min(min_sample_range), np.max(min_sample_range), np.max(epsilon_range), np.min(epsilon_range)])\n",
    "plt.clim(-1, 1)\n",
    "plt.colorbar()\n",
    "\n",
    "plt.savefig(\"dbscan_output/dbscan {}.png\".format(int(time.time())), dpi=200, alpha=True)\n",
    "\n",
    "plt.figure(figsize=(15, 5))\n",
    "plt.imshow(cluster_count_matrix, aspect=\"auto\", interpolation='none')\n",
    "# plt.clim(-1, 1)\n",
    "plt.colorbar()"
   ]
  },
  {
   "cell_type": "code",
   "execution_count": null,
   "metadata": {
    "collapsed": false
   },
   "outputs": [],
   "source": [
    "epsilon_range = np.arange(0.25, 1.55, 0.25) # y\n",
    "leaf_size_range = np.arange(1, 20, 2) # x\n",
    "quality_matrix = np.zeros((len(epsilon_range), len(leaf_size_range)))\n",
    "cluster_count_matrix = np.zeros((len(epsilon_range), len(leaf_size_range)))\n",
    "\n",
    "for leaf_size_index, leaf_size in enumerate(leaf_size_range):\n",
    "    for eps_index, eps in enumerate(epsilon_range):\n",
    "        clustering_algorithm = DBSCAN(eps=eps, min_samples=5, metric='precomputed')\n",
    "        labels = clustering_algorithm.fit_predict(distance_matrix)\n",
    "        cluster_count_matrix[eps_index][leaf_size_index] = len(set(clustering_algorithm.labels_))\n",
    "        if len(set(clustering_algorithm.labels_)) > 1:\n",
    "            quality_matrix[eps_index][leaf_size_index] = silhouette_score(np.array(coord_list), labels)\n",
    "\n",
    "# Plotting\n",
    "plt.figure(figsize=(15, 5))\n",
    "plt.imshow(quality_matrix, interpolation='none', aspect=\"auto\",\n",
    "           extent=[np.min(leaf_size_range), np.max(leaf_size_range), np.max(epsilon_range), np.min(epsilon_range)])\n",
    "plt.colorbar()\n",
    "plt.figure(figsize=(15, 5))\n",
    "plt.imshow(cluster_count_matrix, aspect=\"auto\", interpolation='none')\n",
    "plt.colorbar()"
   ]
  },
  {
   "cell_type": "code",
   "execution_count": null,
   "metadata": {
    "collapsed": true
   },
   "outputs": [],
   "source": []
  }
 ],
 "metadata": {
  "kernelspec": {
   "display_name": "Python 3",
   "language": "python",
   "name": "python3"
  },
  "language_info": {
   "codemirror_mode": {
    "name": "ipython",
    "version": 3
   },
   "file_extension": ".py",
   "mimetype": "text/x-python",
   "name": "python",
   "nbconvert_exporter": "python",
   "pygments_lexer": "ipython3",
   "version": "3.5.1"
  }
 },
 "nbformat": 4,
 "nbformat_minor": 0
}
