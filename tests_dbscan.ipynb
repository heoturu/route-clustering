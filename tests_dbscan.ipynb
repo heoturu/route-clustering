{
 "cells": [
  {
   "cell_type": "code",
   "execution_count": null,
   "metadata": {
    "collapsed": true
   },
   "outputs": [],
   "source": [
    "%matplotlib inline"
   ]
  },
  {
   "cell_type": "code",
   "execution_count": null,
   "metadata": {
    "collapsed": true
   },
   "outputs": [],
   "source": [
    "import pandas as pd\n",
    "import numpy as np\n",
    "import pickle\n",
    "\n",
    "from itertools import chain\n",
    "from itertools import product\n",
    "from itertools import groupby\n",
    "from operator import itemgetter\n",
    "\n",
    "import fiona\n",
    "import matplotlib.pyplot as plt\n",
    "from matplotlib.collections import PatchCollection\n",
    "from mpl_toolkits.basemap import Basemap\n",
    "from shapely.geometry import Point, Polygon, MultiPoint\n",
    "from descartes import PolygonPatch\n",
    "\n",
    "import matplotlib.colors as mpl_colors\n",
    "from random import randint\n",
    "import time\n",
    "\n",
    "from sklearn.cluster import MiniBatchKMeans\n",
    "from sklearn.cluster import KMeans\n",
    "from sklearn.cluster import SpectralClustering\n",
    "from sklearn.cluster import DBSCAN\n",
    "from sklearn.metrics import silhouette_score"
   ]
  },
  {
   "cell_type": "code",
   "execution_count": null,
   "metadata": {
    "collapsed": false
   },
   "outputs": [],
   "source": [
    "with open('data_routes_pickle/routes_coord_cur', 'rb') as f:\n",
    "    routes_coord_cur = pickle.load(f)\n",
    "\n",
    "with open('data_routes_pickle/sim_matrix_sim_segments_1_mod23', 'rb') as f:\n",
    "    sim_matrix = np.array(pickle.load(f))\n",
    "\n",
    "with open('data_routes_pickle/dist_matrix', 'rb') as f:\n",
    "    dist_matrix = np.array(pickle.load(f))\n",
    "\n",
    "with open('data_routes_pickle/cluster_count_cur', 'rb') as f:\n",
    "    cluster_count_cur = pickle.load(f)\n",
    "\n",
    "with open('data_routes_pickle/idxs', 'rb') as f:\n",
    "    idxs = pickle.load(f)"
   ]
  },
  {
   "cell_type": "code",
   "execution_count": null,
   "metadata": {
    "collapsed": true
   },
   "outputs": [],
   "source": [
    "coord_list = []\n",
    "\n",
    "with open('data_routes_pickle/processed_table', 'rb') as f:\n",
    "    coord_list = pickle.load(f, encoding='latin1')\n",
    "\n",
    "def compute_distance(x, y, metric='l1'):\n",
    "    if metric == \"l1\":\n",
    "        return np.linalg.norm((np.array(x) - np.array(y)), ord=1)\n",
    "    else:\n",
    "        raise Exception('Unknown metric')\n",
    "        \n",
    "number_of_paths = len(coord_list)\n",
    "distance_matrix = np.zeros((number_of_paths, number_of_paths))\n",
    "for i in range(number_of_paths):\n",
    "    for j in range(i, number_of_paths):\n",
    "        distance = compute_distance(coord_list[i], coord_list[j], 'l1')\n",
    "        distance_matrix[i][j] = distance\n",
    "        distance_matrix[j][i] = distance"
   ]
  },
  {
   "cell_type": "code",
   "execution_count": null,
   "metadata": {
    "collapsed": false
   },
   "outputs": [],
   "source": [
    "distance_matrix"
   ]
  },
  {
   "cell_type": "code",
   "execution_count": null,
   "metadata": {
    "collapsed": false
   },
   "outputs": [],
   "source": [
    "epsilon_range = np.arange(0.2, 1.41, 0.2) # y axis\n",
    "min_sample_range = np.arange(2, 11, 1) # x axis\n",
    "quality_matrix = np.zeros((len(epsilon_range), len(min_sample_range)))\n",
    "cluster_count_matrix = np.zeros((len(epsilon_range), len(min_sample_range)))\n",
    "\n",
    "for min_sample_index, min_sample_size in enumerate(min_sample_range):\n",
    "    for eps_index, eps in enumerate(epsilon_range):\n",
    "        clustering_algorithm = DBSCAN(eps=eps, min_samples=min_sample_size, metric='precomputed')\n",
    "#         clustering_algorithm = KMeans(n_clusters=min_sample_size)\n",
    "        labels = clustering_algorithm.fit_predict(distance_matrix)\n",
    "        cluster_count_matrix[eps_index][min_sample_index] = len(set(clustering_algorithm.labels_))\n",
    "#         print(clustering_algorithm.labels_)\n",
    "#         raise Exception('Exc')\n",
    "        if len(clustering_algorithm.labels_) > len(set(clustering_algorithm.labels_)) > 1:\n",
    "            quality_matrix[eps_index][min_sample_index] = silhouette_score(np.array(coord_list), labels)\n",
    "\n",
    "# Plotting\n",
    "plt.figure(figsize=(15, 5))\n",
    "plt.imshow(quality_matrix, interpolation='none', aspect=\"auto\",\n",
    "           extent=[np.min(min_sample_range), np.max(min_sample_range) + 1, \n",
    "                   np.max(epsilon_range) + 0.2, np.min(epsilon_range)])\n",
    "plt.clim(-1, 1)\n",
    "plt.colorbar()\n",
    "\n",
    "plt.savefig(\"dbscan_output/dbscan {}.png\".format(int(time.time())), dpi=200, alpha=True)\n",
    "\n",
    "plt.figure(figsize=(15, 5))\n",
    "plt.imshow(cluster_count_matrix, interpolation='none', aspect=\"auto\",\n",
    "           extent=[np.min(min_sample_range), np.max(min_sample_range) + 1, \n",
    "                   np.max(epsilon_range) + 0.2, np.min(epsilon_range)])\n",
    "plt.colorbar()"
   ]
  },
  {
   "cell_type": "code",
   "execution_count": null,
   "metadata": {
    "collapsed": false
   },
   "outputs": [],
   "source": [
    "epsilon_range = np.arange(0.25, 1.55, 0.25) # y\n",
    "leaf_size_range = np.arange(1, 20, 2) # x\n",
    "quality_matrix = np.zeros((len(epsilon_range), len(leaf_size_range)))\n",
    "cluster_count_matrix = np.zeros((len(epsilon_range), len(leaf_size_range)))\n",
    "\n",
    "for leaf_size_index, leaf_size in enumerate(leaf_size_range):\n",
    "    for eps_index, eps in enumerate(epsilon_range):\n",
    "        clustering_algorithm = DBSCAN(eps=eps, min_samples=5, metric='precomputed')\n",
    "        labels = clustering_algorithm.fit_predict(distance_matrix)\n",
    "        cluster_count_matrix[eps_index][leaf_size_index] = len(set(clustering_algorithm.labels_))\n",
    "        if len(set(clustering_algorithm.labels_)) > 1:\n",
    "            quality_matrix[eps_index][leaf_size_index] = silhouette_score(np.array(co`ord_list), labels)\n",
    "\n",
    "# Plotting\n",
    "plt.figure(figsize=(15, 5))\n",
    "plt.imshow(quality_matrix, interpolation='none', aspect=\"auto\",\n",
    "           extent=[np.min(leaf_size_range), np.max(leaf_size_range), np.max(epsilon_range), np.min(epsilon_range)])\n",
    "plt.colorbar()\n",
    "plt.figure(figsize=(15, 5))\n",
    "plt.imshow(cluster_count_matrix, aspect=\"auto\", interpolation='none')\n",
    "plt.colorbar()"
   ]
  },
  {
   "cell_type": "code",
   "execution_count": null,
   "metadata": {
    "collapsed": true
   },
   "outputs": [],
   "source": []
  },
  {
   "cell_type": "code",
   "execution_count": null,
   "metadata": {
    "collapsed": true
   },
   "outputs": [],
   "source": []
  }
 ],
 "metadata": {
  "kernelspec": {
   "display_name": "Python 3",
   "language": "python",
   "name": "python3"
  },
  "language_info": {
   "codemirror_mode": {
    "name": "ipython",
    "version": 3
   },
   "file_extension": ".py",
   "mimetype": "text/x-python",
   "name": "python",
   "nbconvert_exporter": "python",
   "pygments_lexer": "ipython3",
   "version": "3.5.1"
  }
 },
 "nbformat": 4,
 "nbformat_minor": 0
}
