{
 "cells": [
  {
   "cell_type": "code",
   "execution_count": null,
   "metadata": {
    "collapsed": true
   },
   "outputs": [],
   "source": [
    "%matplotlib inline"
   ]
  },
  {
   "cell_type": "code",
   "execution_count": null,
   "metadata": {
    "collapsed": true
   },
   "outputs": [],
   "source": [
    "import os\n",
    "import pickle\n",
    "from math import floor\n",
    "from random import shuffle\n",
    "from statistics import variance\n",
    "import math\n",
    "\n",
    "from itertools import chain\n",
    "from itertools import product\n",
    "from itertools import groupby\n",
    "from operator import itemgetter\n",
    "\n",
    "import pandas as pd\n",
    "import numpy as np\n",
    "\n",
    "import fiona\n",
    "import matplotlib.pyplot as plt\n",
    "from matplotlib.collections import PatchCollection\n",
    "from mpl_toolkits.basemap import Basemap\n",
    "from shapely.geometry import Point, Polygon, MultiPoint\n",
    "from descartes import PolygonPatch\n",
    "\n",
    "import matplotlib.colors as mpl_colors\n",
    "from random import randint\n",
    "import time\n",
    "\n",
    "from geopy.distance import vincenty"
   ]
  },
  {
   "cell_type": "markdown",
   "metadata": {
    "collapsed": true
   },
   "source": [
    "# Setting up environment"
   ]
  },
  {
   "cell_type": "code",
   "execution_count": null,
   "metadata": {
    "collapsed": true
   },
   "outputs": [],
   "source": [
    "img_width_inches = 7.22 * 3\n",
    "img_height_inches = 5.25 * 3\n",
    "\n",
    "stadium_coords = 30.28725, 59.95271\n",
    "def dist_to_stadium(point):\n",
    "    return vincenty(stadium_coords, point).miles\n",
    "\n",
    "def remove_dups_conseq(route):\n",
    "    return list(map(itemgetter(0), groupby(route)))"
   ]
  },
  {
   "cell_type": "code",
   "execution_count": null,
   "metadata": {
    "collapsed": true
   },
   "outputs": [],
   "source": [
    "with open('./data_routes_pickle/cell_id_lac_info', 'rb') as f:\n",
    "    station_dict = pickle.load(f)\n",
    "    \n",
    "with open('./data_routes_pickle/routes_user_id', 'rb') as f:\n",
    "    routes_user_id = pickle.load(f)\n",
    "\n",
    "with open('./data_routes_pickle/routes_coord', 'rb') as f:\n",
    "    routes_coord = pickle.load(f)\n",
    "\n",
    "with open('./data_routes_pickle/routes_cell_id', 'rb') as f:\n",
    "    routes_station = pickle.load(f)"
   ]
  },
  {
   "cell_type": "markdown",
   "metadata": {},
   "source": [
    "### Reading map (really long operation)"
   ]
  },
  {
   "cell_type": "code",
   "execution_count": null,
   "metadata": {
    "collapsed": true
   },
   "outputs": [],
   "source": [
    "m.readshapefile(\n",
    "    'data_maps_input/spb',\n",
    "    'city_polygons',\n",
    "    drawbounds=False)\n",
    "\n",
    "df_map = pd.DataFrame({\n",
    "    'poly': [Polygon(polygon_coords) for polygon_coords in m.city_polygons]})"
   ]
  },
  {
   "cell_type": "code",
   "execution_count": null,
   "metadata": {
    "collapsed": true
   },
   "outputs": [],
   "source": [
    "df_map['patches'] = df_map['poly'].map(lambda x: PolygonPatch(\n",
    "    x,\n",
    "    fc='black',\n",
    "    ec='grey', lw=0.55, alpha=0.6,\n",
    "    zorder=2))"
   ]
  },
  {
   "cell_type": "markdown",
   "metadata": {},
   "source": [
    "### Creating basemap, setting up scale etc."
   ]
  },
  {
   "cell_type": "code",
   "execution_count": null,
   "metadata": {
    "collapsed": true
   },
   "outputs": [],
   "source": [
    "shp = fiona.open('data_maps_input/spb.shp')\n",
    "bds = shp.bounds\n",
    "shp.close()\n",
    "\n",
    "ll = bds[0], bds[1]\n",
    "ur = bds[2], bds[3]\n",
    "coords = list(chain(ll, ur))\n",
    "w, h = coords[2] - coords[0], coords[3] - coords[1]\n",
    "zoom_out_frac = -0.3\n",
    "\n",
    "m = Basemap(\n",
    "    projection='tmerc',\n",
    "    lon_0=30.5,\n",
    "    lat_0=60.,\n",
    "    ellps='WGS84',\n",
    "    llcrnrlon=coords[0] + (coords[2] - coords[0]) * 0.06 - zoom_out_frac * w,\n",
    "    llcrnrlat=coords[1] - zoom_out_frac * h,\n",
    "    urcrnrlon=coords[2] + (coords[2] - coords[0]) * 0.06 + zoom_out_frac * w,\n",
    "    urcrnrlat=coords[3] + zoom_out_frac * h,\n",
    "    lat_ts=0,\n",
    "    resolution='i',\n",
    "    suppress_ticks=True)"
   ]
  },
  {
   "cell_type": "code",
   "execution_count": null,
   "metadata": {
    "collapsed": true
   },
   "outputs": [],
   "source": [
    "map_points = pd.Series(\n",
    "    [Point(m(mapped_x, mapped_y)) for mapped_x, mapped_y in \n",
    "     [(station_dict[i][0], station_dict[i][1]) for i in station_dict]])\n",
    "\n",
    "station_points = MultiPoint(list(map_points.values))"
   ]
  },
  {
   "cell_type": "markdown",
   "metadata": {},
   "source": [
    "# Filtering"
   ]
  },
  {
   "cell_type": "markdown",
   "metadata": {},
   "source": [
    "### Current routes resetting"
   ]
  },
  {
   "cell_type": "code",
   "execution_count": null,
   "metadata": {
    "collapsed": true
   },
   "outputs": [],
   "source": [
    "routes_coord_cur = routes_coord\n",
    "routes_user_id_cur = routes_user_id"
   ]
  },
  {
   "cell_type": "markdown",
   "metadata": {},
   "source": [
    "### Filtering by any segment distance"
   ]
  },
  {
   "cell_type": "code",
   "execution_count": null,
   "metadata": {
    "collapsed": false
   },
   "outputs": [],
   "source": [
    "threshold_route_any = 5\n",
    "\n",
    "def filter_dist_any(routes_coord, routes_user_id):    \n",
    "    routes_coord_filtered_dist_any_intl = []\n",
    "    routes_user_id_filtered_dist_any_intl = []\n",
    "\n",
    "    removed_route_count = 0\n",
    "    for i in range(len(routes_coord)):\n",
    "        route = routes_coord[i]\n",
    "        user_id = routes_user_id[i]\n",
    "        \n",
    "        is_long = False\n",
    "        # All (or not all :) the distances should <= the threshold\n",
    "        for j in range(len(route) - 1):\n",
    "#         for j in range(min(2, len(route) - 1)):\n",
    "            point1, point2 = route[j], route[j + 1]\n",
    "            cur_dist = vincenty(point1, point2).miles\n",
    "            if cur_dist > threshold_route_any:\n",
    "                is_long = True\n",
    "\n",
    "        if is_long:\n",
    "            removed_route_count += 1\n",
    "        else:\n",
    "            routes_coord_filtered_dist_any_intl.append(route)\n",
    "            routes_user_id_filtered_dist_any_intl.append(user_id)\n",
    "\n",
    "    print(\"Removed \" + str(removed_route_count) + \" routes out of \" + str(len(routes_coord)))\n",
    "    \n",
    "    return routes_coord_filtered_dist_any_intl, routes_user_id_filtered_dist_any_intl\n",
    "\n",
    "routes_coord_cur, routes_user_id_cur = filter_dist_any(routes_coord_cur, routes_user_id_cur)"
   ]
  },
  {
   "cell_type": "markdown",
   "metadata": {},
   "source": [
    "### Filtering by stadium-closest point distance"
   ]
  },
  {
   "cell_type": "code",
   "execution_count": null,
   "metadata": {
    "collapsed": false
   },
   "outputs": [],
   "source": [
    "threshold_route_closest = 0.05\n",
    "\n",
    "def filter_closest(routes_coord, routes_user_id):    \n",
    "    routes_coord_filtered_closest_intl = []\n",
    "    routes_user_id_filtered_dist_any_intl = []\n",
    "    \n",
    "    removed_route_count = 0\n",
    "    for i in range(len(routes_coord)):\n",
    "        route = routes_coord[i]\n",
    "        user_id = routes_user_id[i]\n",
    "        \n",
    "        is_far = True\n",
    "        # At least one point should be close to the stadium\n",
    "        for i in range(len(route)):\n",
    "            if dist_to_stadium(route[i]) < threshold_route_closest:\n",
    "                is_far = False\n",
    "\n",
    "        if is_far:\n",
    "            removed_route_count += 1\n",
    "        else:\n",
    "            routes_coord_filtered_closest_intl.append(route)\n",
    "            routes_user_id_filtered_dist_any_intl.append(user_id)\n",
    "    \n",
    "    print(\"Removed \" + str(removed_route_count) + \" routes out of \" + str(len(routes_coord)))\n",
    "    \n",
    "    return routes_coord_filtered_closest_intl, routes_user_id_filtered_dist_any_intl\n",
    "\n",
    "routes_coord_cur, routes_user_id_cur = filter_closest(routes_coord_cur, routes_user_id_cur)"
   ]
  },
  {
   "cell_type": "markdown",
   "metadata": {},
   "source": [
    "### Removing cycles (w/ length >= 3) "
   ]
  },
  {
   "cell_type": "code",
   "execution_count": null,
   "metadata": {
    "collapsed": false
   },
   "outputs": [],
   "source": [
    "def remove_cycles(routes_coord, routes_user_id):\n",
    "    routes_coord_no_cycles_intl = []\n",
    "    routes_user_id_no_cycles_intl = []\n",
    "    \n",
    "    removed_route_count = 0\n",
    "    for i in range(len(routes_coord)):\n",
    "        # Converting to tuples for groupby etc. to work\n",
    "        cur_route = [tuple(coords) for coords in routes_coord[i]]\n",
    "        cur_user_id = routes_user_id[i]\n",
    "        \n",
    "        route_unique = remove_dups_conseq(cur_route)\n",
    "        \n",
    "        contains_cycle = False\n",
    "        \n",
    "        for cycle_len in range(3, len(route_unique)):\n",
    "            for j in range(len(route_unique) - cycle_len):\n",
    "                if (route_unique[j] == route_unique[j + cycle_len] and\n",
    "                    route_unique[j] != route_unique[j + 2]):\n",
    "                    contains_cycle = True\n",
    "                    break\n",
    "            if contains_cycle:\n",
    "                break\n",
    "        \n",
    "        if contains_cycle:\n",
    "#             print(i)\n",
    "            removed_route_count += 1\n",
    "        else:\n",
    "            routes_coord_no_cycles_intl.append(cur_route)\n",
    "            routes_user_id_no_cycles_intl.append(cur_user_id)\n",
    "    \n",
    "    print(\"Removed \" + str(removed_route_count) + \" routes out of \" + str(len(routes_coord)))\n",
    "    \n",
    "    return routes_coord_no_cycles_intl, routes_user_id_no_cycles_intl\n",
    "\n",
    "routes_coord_cur, routes_user_id_cur = remove_cycles(routes_coord_cur, routes_user_id_cur)"
   ]
  },
  {
   "cell_type": "markdown",
   "metadata": {},
   "source": [
    "### Cutting all the dups"
   ]
  },
  {
   "cell_type": "code",
   "execution_count": null,
   "metadata": {
    "collapsed": false
   },
   "outputs": [],
   "source": [
    "def cut_dups(routes_coord):\n",
    "    \"\"\"\n",
    "    Cutting all the dups (even w/ length = 2)\n",
    "    TODO Consider splitting such 2-length dups (offshoots)\n",
    "    \"\"\"\n",
    "    \n",
    "    routes_coord_no2cycles_intl = []\n",
    "    \n",
    "    removed_route_count = 0\n",
    "    for i in range(len(routes_coord)):\n",
    "        route_unique = remove_dups_conseq(routes_coord[i])\n",
    "        \n",
    "        final_route = []\n",
    "        \n",
    "        j = 0\n",
    "        while j < len(route_unique):\n",
    "            if j >= len(route_unique) - 2 or route_unique[j] != route_unique[j + 2]:\n",
    "                final_route.append(route_unique[j])\n",
    "                j += 1\n",
    "            else:\n",
    "                k = j + 1\n",
    "                while k < len(route_unique):\n",
    "                    if (route_unique[k] != route_unique[j] and\n",
    "                        route_unique[k] != route_unique[j + 1]):\n",
    "                        if route_unique[k - 1] == route_unique[j]:\n",
    "                            if j == 0:\n",
    "                                final_route.append(route_unique[j + 1])\n",
    "                        else:\n",
    "                            final_route.append(route_unique[j])\n",
    "                        j = k - 1\n",
    "                        break\n",
    "                    k += 1\n",
    "                if k == len(route_unique):\n",
    "                    final_route += [route_unique[j], route_unique[j + 1]]\n",
    "                    break\n",
    "        \n",
    "        final_route = remove_dups_conseq(final_route)\n",
    "        routes_coord_no2cycles_intl.append(final_route)\n",
    "    return routes_coord_no2cycles_intl\n",
    "\n",
    "print(len(routes_coord_cur))\n",
    "routes_coord_cur = cut_dups(routes_coord_cur)\n",
    "print(len(routes_coord_cur))"
   ]
  },
  {
   "cell_type": "markdown",
   "metadata": {},
   "source": [
    "### Splitting routes on to/from the stadium (optional length filtering)"
   ]
  },
  {
   "cell_type": "code",
   "execution_count": null,
   "metadata": {
    "collapsed": false
   },
   "outputs": [],
   "source": [
    "routes_split = []\n",
    "for route in routes_coord_cur:\n",
    "    for i in range(len(route)):\n",
    "        if dist_to_stadium(route[i]) < 0.05:\n",
    "            if i == 0:\n",
    "                routes_split.append(route)\n",
    "                break\n",
    "            elif i == len(route) - 1:\n",
    "                routes_split.append(route[::-1])\n",
    "                break\n",
    "            routes_split += [route[:i + 1][::-1], route[i:]]\n",
    "\n",
    "print(len(routes_coord_cur))\n",
    "routes_coord_cur = list(filter(lambda route: len(route) > 2, routes_split))\n",
    "print(len(routes_coord_cur))"
   ]
  },
  {
   "cell_type": "markdown",
   "metadata": {},
   "source": [
    "### Route angle determining"
   ]
  },
  {
   "cell_type": "code",
   "execution_count": null,
   "metadata": {
    "collapsed": true
   },
   "outputs": [],
   "source": [
    "def vector_diff(point1, point2):\n",
    "    return [point1.x - point2.x, point1.y - point2.y]\n",
    "\n",
    "def angle_diff_points(point0, point1, point2):\n",
    "    map_point0, map_point1, map_point2 = \\\n",
    "        Point(m(point0[0], point0[1])), \\\n",
    "        Point(m(point1[0], point1[1])), \\\n",
    "        Point(m(point2[0], point2[1])),\n",
    "    \n",
    "    vec1 = vector_diff(map_point1, map_point0)\n",
    "    vec2 = vector_diff(map_point2, map_point0)\n",
    "    prod = np.dot(vec1, vec2) / (np.linalg.norm(vec1) * np.linalg.norm(vec2))\n",
    "\n",
    "    return math.acos(prod)\n",
    "\n",
    "def angle_diff_max(route):\n",
    "    angle_diff_max = 0\n",
    "    for i in range(1, len(route) - 1):\n",
    "        for j in range(i + 1, len(route)):\n",
    "            angle_diff_cur = angle_diff_points(route[0], route[i], route[j])\n",
    "            print(angle_diff_cur)\n",
    "            if angle_diff_cur > angle_diff_max:\n",
    "                angle_diff_max = angle_diff_cur\n",
    "\n",
    "    return angle_diff_max"
   ]
  },
  {
   "cell_type": "code",
   "execution_count": null,
   "metadata": {
    "collapsed": true
   },
   "outputs": [],
   "source": [
    "def cumul_point(route):\n",
    "    cumul_point = [0, 0]\n",
    "    for i, point in enumerate(route[1:]):\n",
    "        cumul_point[0] += point[0]\n",
    "        cumul_point[1] += point[1]\n",
    "\n",
    "    z = len(route) - 1\n",
    "    return [cumul_point[0] / z, cumul_point[1] / z]"
   ]
  },
  {
   "cell_type": "markdown",
   "metadata": {},
   "source": [
    "### Filtering on max angle between points of the route start"
   ]
  },
  {
   "cell_type": "code",
   "execution_count": null,
   "metadata": {
    "collapsed": false
   },
   "outputs": [],
   "source": [
    "print(len(routes_coord_cur))\n",
    "routes_coord_cur = list(filter(lambda route: angle_diff_max(route) < 1.2, routes_coord_cur))\n",
    "print(len(routes_coord_cur))"
   ]
  },
  {
   "cell_type": "markdown",
   "metadata": {},
   "source": [
    "### Route validity checking"
   ]
  },
  {
   "cell_type": "code",
   "execution_count": null,
   "metadata": {
    "collapsed": true
   },
   "outputs": [],
   "source": [
    "for i in range(len(routes_coord_cur)):\n",
    "    route = routes_coord_cur[i]\n",
    "    stad_points_count = 0\n",
    "    stad_point_idx = -1\n",
    "    for j in range(len(route)):\n",
    "        if dist_to_stadium(route[j]) < 0.05:\n",
    "            stad_points_count += 1\n",
    "            stad_point_idx = j\n",
    "    if stad_points_count != 1 or stad_point_idx != 0:\n",
    "        print(stad_point_idx)"
   ]
  },
  {
   "cell_type": "markdown",
   "metadata": {},
   "source": [
    "### Backup utility cells"
   ]
  },
  {
   "cell_type": "code",
   "execution_count": null,
   "metadata": {
    "collapsed": true
   },
   "outputs": [],
   "source": [
    "routes_coord_cur_back = routes_coord_cur[:]\n",
    "routes_user_id_cur_back = routes_user_id_cur[:]"
   ]
  },
  {
   "cell_type": "code",
   "execution_count": null,
   "metadata": {
    "collapsed": true
   },
   "outputs": [],
   "source": [
    "routes_coord_cur = routes_coord_cur_back\n",
    "routes_user_id_cur = routes_user_id_cur_back\n",
    "\n",
    "routes_coord_cur_back = routes_coord_cur[:]\n",
    "routes_user_id_cur_back = routes_user_id_cur[:]"
   ]
  },
  {
   "cell_type": "markdown",
   "metadata": {},
   "source": [
    "### Saving final filtered/splitted routes"
   ]
  },
  {
   "cell_type": "code",
   "execution_count": null,
   "metadata": {
    "collapsed": true
   },
   "outputs": [],
   "source": [
    "with open('data_routes_pickle/routes_coord_any_3_contains_nocycles_angle_1.2_1k', 'wb') as f:\n",
    "    pickle.dump(routes_coord_cur, f)\n",
    "    \n",
    "with open('data_routes_pickle/routes_coord_cur', 'wb') as f:\n",
    "    pickle.dump(routes_coord_cur, f)"
   ]
  },
  {
   "cell_type": "code",
   "execution_count": null,
   "metadata": {
    "collapsed": false
   },
   "outputs": [],
   "source": [
    "len(routes_coord_cur)"
   ]
  },
  {
   "cell_type": "markdown",
   "metadata": {},
   "source": [
    "# Plotting current route data"
   ]
  },
  {
   "cell_type": "code",
   "execution_count": null,
   "metadata": {
    "collapsed": false
   },
   "outputs": [],
   "source": [
    "plt.clf()\n",
    "fig = plt.figure(facecolor='black')\n",
    "ax = fig.add_subplot(111, frame_on=False)\n",
    "\n",
    "m.scatter([geom.x for geom in list(station_points)], [geom.y for geom in list(station_points)],\n",
    "          5, marker='.', lw=.25, facecolor='#33ccff', edgecolor='w', alpha=0.9, antialiased=True, zorder=3)\n",
    "\n",
    "# colors = ['red', 'white', 'blue', 'yellow', 'green']\n",
    "colors = list(mpl_colors.cnames.keys())\n",
    "cur_color = colors[0]\n",
    "\n",
    "for j in range(len(routes_coord_cur[:10])):\n",
    "    route_coords = routes_coord_cur[j]\n",
    "    for i in range(0, len(route_coords) - 1):\n",
    "        point1, point2 = route_coords[i], route_coords[i + 1]\n",
    "        map_point1, map_point2 = Point(m(point1[0], point1[1])), Point(m(point2[0], point2[1]))\n",
    "        xs, ys = [map_point1.x, map_point2.x], [map_point1.y, map_point2.y]\n",
    "        alpha = (i + 1) / len(route_coords)\n",
    "\n",
    "#         m.scatter(xs, ys, 20, marker='.', lw=.0,\n",
    "#                   facecolor='red', edgecolor='w', alpha=0.9, antialiased=True, zorder=5)\n",
    "\n",
    "        plt.plot(xs, ys, linestyle='-', color=colors[j % len(colors)], zorder=4, alpha=1)\n",
    "\n",
    "    cumul_p = cumul_point(route_coords)\n",
    "    map_point_0 = Point(m(route_coords[0][0], route_coords[0][1]))\n",
    "    map_point_1 = Point(m(cumul_p[0], cumul_p[1]))\n",
    "    plt.plot([map_point_0.x, map_point_1.x], \n",
    "             [map_point_0.y, map_point_1.y], linestyle='-', color='b', zorder=4, alpha=1)\n",
    "\n",
    "#     print(j)\n",
    "\n",
    "print('Plotting done')\n",
    "\n",
    "# ax.add_collection(PatchCollection(df_map['patches'].values, match_original=True))\n",
    "\n",
    "fig.set_size_inches(img_width_inches, img_height_inches)\n",
    "\n",
    "plt.savefig(\n",
    "    \"data_maps_output/routes {}.png\".format(int(time.time())),\n",
    "    dpi=200, alpha=True, facecolor=fig.get_facecolor())"
   ]
  },
  {
   "cell_type": "markdown",
   "metadata": {},
   "source": [
    "# Data manupulation"
   ]
  },
  {
   "cell_type": "markdown",
   "metadata": {},
   "source": [
    "### Station popularity computing & plotting"
   ]
  },
  {
   "cell_type": "code",
   "execution_count": null,
   "metadata": {
    "collapsed": true
   },
   "outputs": [],
   "source": [
    "station_rating_map = {}\n",
    "for i in range(len(routes_coord)):\n",
    "    route = routes_coord[i]\n",
    "    for j in range(len(route)):\n",
    "        cur_coord = tuple(route[j])\n",
    "        if cur_coord not in station_rating_map:\n",
    "            station_rating_map[cur_coord] = 1\n",
    "        else:\n",
    "            station_rating_map[cur_coord] += 1\n",
    "\n",
    "most_visited_station_idxs = \\\n",
    "    sorted(station_rating_map, key=station_rating_map.get, reverse=True)"
   ]
  },
  {
   "cell_type": "code",
   "execution_count": null,
   "metadata": {
    "collapsed": false
   },
   "outputs": [],
   "source": [
    "fig = plt.figure(facecolor='black')\n",
    "ax = fig.add_subplot(111, frame_on=False)\n",
    "\n",
    "ratings = []\n",
    "for i in station_dict:    \n",
    "    cur_station_coords = station_dict[i][0], station_dict[i][1]\n",
    "    ratings.append(station_rating_map[cur_station_coords] / 10 if cur_station_coords in station_rating_map else 0)\n",
    "\n",
    "m.scatter([geom.x for geom in list(station_points)], [geom.y for geom in list(station_points)],\n",
    "          ratings, marker='.', lw=.25, facecolor='#33ccff', edgecolor='w', alpha=0.9, antialiased=True, zorder=3)\n",
    "\n",
    "print('Plotting done')\n",
    "\n",
    "# ax.add_collection(PatchCollection(df_map['patches'].values, match_original=True))\n",
    "\n",
    "fig.set_size_inches(img_width_inches, img_height_inches)\n",
    "\n",
    "plt.savefig(\n",
    "    \"data_maps_output/routes {}.png\".format(int(time.time())),\n",
    "    dpi=200, alpha=True, facecolor=fig.get_facecolor())"
   ]
  },
  {
   "cell_type": "code",
   "execution_count": null,
   "metadata": {
    "collapsed": true
   },
   "outputs": [],
   "source": []
  }
 ],
 "metadata": {
  "kernelspec": {
   "display_name": "Python 3",
   "language": "python",
   "name": "python3"
  },
  "language_info": {
   "codemirror_mode": {
    "name": "ipython",
    "version": 3
   },
   "file_extension": ".py",
   "mimetype": "text/x-python",
   "name": "python",
   "nbconvert_exporter": "python",
   "pygments_lexer": "ipython3",
   "version": "3.5.1"
  }
 },
 "nbformat": 4,
 "nbformat_minor": 0
}
