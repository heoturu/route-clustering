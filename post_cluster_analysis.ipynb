{
 "cells": [
  {
   "cell_type": "code",
   "execution_count": null,
   "metadata": {
    "collapsed": true
   },
   "outputs": [],
   "source": [
    "%matplotlib inline"
   ]
  },
  {
   "cell_type": "code",
   "execution_count": null,
   "metadata": {
    "collapsed": true
   },
   "outputs": [],
   "source": [
    "import os\n",
    "import pickle\n",
    "from math import floor\n",
    "from random import shuffle\n",
    "from statistics import variance\n",
    "import math\n",
    "\n",
    "from itertools import chain\n",
    "from itertools import product\n",
    "from itertools import groupby\n",
    "from operator import itemgetter\n",
    "\n",
    "import pandas as pd\n",
    "import numpy as np\n",
    "\n",
    "from geopy.distance import vincenty\n",
    "import matplotlib.pyplot as plt\n",
    "\n",
    "from utils import angle_diff_max"
   ]
  },
  {
   "cell_type": "code",
   "execution_count": null,
   "metadata": {
    "collapsed": true
   },
   "outputs": [],
   "source": [
    "with open('data_routes_pickle/routes_coord_cur', 'rb') as f:\n",
    "    routes_coord_cur = pickle.load(f)\n",
    "\n",
    "with open('data_routes_pickle/sim_matrix_sim_segments_1_mod23_cumul', 'rb') as f:\n",
    "    sim_matrix = np.array(pickle.load(f))\n",
    "\n",
    "with open('data_routes_pickle/dist_matrix', 'rb') as f:\n",
    "    dist_matrix = np.array(pickle.load(f))\n",
    "\n",
    "with open('data_routes_pickle/cluster_count_cur', 'rb') as f:\n",
    "    cluster_count_cur = pickle.load(f)\n",
    "\n",
    "with open('data_routes_pickle/idxs', 'rb') as f:\n",
    "    idxs = pickle.load(f)"
   ]
  },
  {
   "cell_type": "markdown",
   "metadata": {},
   "source": [
    "### Route angle avg/max on given dataset"
   ]
  },
  {
   "cell_type": "code",
   "execution_count": null,
   "metadata": {
    "collapsed": true
   },
   "outputs": [],
   "source": [
    "cluster_angles_avg = [0] * cluster_count_cur\n",
    "cluster_lengths = [0] * cluster_count_cur\n",
    "for route_idx in range(len(idxs)):\n",
    "    cluster_idx = idxs[route_idx]\n",
    "    route = routes_coord_cur[route_idx]\n",
    "    \n",
    "    cluster_angles_avg[cluster_idx] += angle_diff_max(route[:3])\n",
    "    cluster_lengths[cluster_idx] += 1\n",
    "\n",
    "for i in range(len(cluster_angles_avg)):\n",
    "    cluster_angles_avg[i] /= cluster_lengths[i]\n",
    "\n",
    "cluster_angles_avg"
   ]
  },
  {
   "cell_type": "code",
   "execution_count": null,
   "metadata": {
    "collapsed": true
   },
   "outputs": [],
   "source": [
    "cluster_angles_max = [0] * cluster_count_cur\n",
    "cluster_max_route_idxs = [-1] * cluster_count_cur\n",
    "for route_idx in range(len(idxs)):\n",
    "    cluster_idx = idxs[route_idx]\n",
    "    route = routes_coord_cur[route_idx]\n",
    "\n",
    "    angle_diff_max_cur = angle_diff_max(route[:3])\n",
    "    if angle_diff_max_cur > cluster_angles_max[cluster_idx]:\n",
    "        cluster_angles_max[cluster_idx] = angle_diff_max_cur\n",
    "        cluster_max_route_idxs[cluster_idx] = route_idx\n",
    "\n",
    "cluster_angles_max, cluster_max_route_idxs"
   ]
  },
  {
   "cell_type": "markdown",
   "metadata": {},
   "source": [
    "### Route length hist"
   ]
  },
  {
   "cell_type": "code",
   "execution_count": null,
   "metadata": {
    "collapsed": true
   },
   "outputs": [],
   "source": [
    "lengths = [len(route) for route in routes_coord_cur]\n",
    "max_len = max(lengths)\n",
    "\n",
    "hist_dict = {}\n",
    "for idx in lengths:\n",
    "    if idx not in hist_dict:\n",
    "        hist_dict[idx] = 1\n",
    "    else:\n",
    "        hist_dict[idx] += 1\n",
    "print(hist_dict)\n",
    "\n",
    "plt.bar(list(hist_dict.keys()), list(hist_dict.values()))\n",
    "plt.show()\n",
    "\n",
    "# lengths"
   ]
  },
  {
   "cell_type": "markdown",
   "metadata": {},
   "source": [
    "### Mean similarity rates per cluster"
   ]
  },
  {
   "cell_type": "code",
   "execution_count": null,
   "metadata": {
    "collapsed": true
   },
   "outputs": [],
   "source": [
    "route_idxs_per_cluster = [[] for i in range(cluster_count_cur)]\n",
    "for r_i, c_i in enumerate(idxs):\n",
    "    route_idxs_per_cluster[c_i].append(r_i)\n",
    "\n",
    "[len(routes) for routes in route_idxs_per_cluster]"
   ]
  },
  {
   "cell_type": "code",
   "execution_count": null,
   "metadata": {
    "collapsed": true
   },
   "outputs": [],
   "source": [
    "mean_sims = [0] * cluster_count_cur\n",
    "cells_counted = [0] * cluster_count_cur # basically same as n^2/2 + n/2\n",
    "\n",
    "for cluster_idx, routes_i in enumerate(route_idxs_per_cluster):\n",
    "    for i, route_idx_i in enumerate(routes_i):\n",
    "        for route_idx_j in routes_i[i:]:\n",
    "            mean_sims[cluster_idx] += sim_matrix[route_idx_i][route_idx_j]\n",
    "            cells_counted[cluster_idx] += 1\n",
    "\n",
    "mean_sims = [sim / cells_counted[i] for i, sim in enumerate(mean_sims)]\n",
    "print(*mean_sims, sep='\\n')\n",
    "\n",
    "plt.bar(list(range(len(mean_sims))), mean_sims)\n",
    "plt.show()"
   ]
  },
  {
   "cell_type": "code",
   "execution_count": null,
   "metadata": {
    "collapsed": true
   },
   "outputs": [],
   "source": []
  }
 ],
 "metadata": {
  "kernelspec": {
   "display_name": "Python 3",
   "language": "python",
   "name": "python3"
  },
  "language_info": {
   "codemirror_mode": {
    "name": "ipython",
    "version": 3
   },
   "file_extension": ".py",
   "mimetype": "text/x-python",
   "name": "python",
   "nbconvert_exporter": "python",
   "pygments_lexer": "ipython3",
   "version": "3.5.1"
  }
 },
 "nbformat": 4,
 "nbformat_minor": 0
}
